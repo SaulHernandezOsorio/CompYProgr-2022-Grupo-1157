{
  "nbformat": 4,
  "nbformat_minor": 0,
  "metadata": {
    "colab": {
      "name": "Fundamentos2_CyP_1157.ipynb",
      "provenance": [],
      "authorship_tag": "ABX9TyMsD+J6iVAWo7Syap8EqRCL",
      "include_colab_link": true
    },
    "kernelspec": {
      "name": "python3",
      "display_name": "Python 3"
    },
    "language_info": {
      "name": "python"
    }
  },
  "cells": [
    {
      "cell_type": "markdown",
      "metadata": {
        "id": "view-in-github",
        "colab_type": "text"
      },
      "source": [
        "<a href=\"https://colab.research.google.com/github/SaulHernandezOsorio/CompYProgr-2022-Grupo-1157/blob/main/Fundamentos2_CyP_1157%20%2011-NOV-2021.ipynb\" target=\"_parent\"><img src=\"https://colab.research.google.com/assets/colab-badge.svg\" alt=\"Open In Colab\"/></a>"
      ]
    },
    {
      "cell_type": "markdown",
      "metadata": {
        "id": "InR0n46UYxLn"
      },
      "source": [
        "### 4 DE NOVIEMBRE DEL 2021"
      ]
    },
    {
      "cell_type": "markdown",
      "metadata": {
        "id": "x7cQ6sVEFmvP"
      },
      "source": [
        "\n",
        "# Tipos de datos estructurados de python\n",
        "\n",
        "1. Listas\n",
        "2. Tuplas\n",
        "3. Diccionarios\n",
        "4. Conjuntos(opcional)\n",
        "\n"
      ]
    },
    {
      "cell_type": "markdown",
      "metadata": {
        "id": "vzV2CHkgFzsy"
      },
      "source": [
        "# Listas\n",
        "- Tipo de dato que agrupa variables o valores.\n",
        "- Se declara de dos formas#\n",
        "     - usando [ ]\n",
        "     - usando list()\n",
        "     - usando un generador\n",
        "- Puede contener tipos de dato diversos ( En otros lenguajes de prog. eso no es posible de forma directa )\n",
        "- Los elementos internos se seleccionan con [ ]\n",
        "- Soporta Slicing\n",
        "- Son MUTABLES\n",
        "- GENERADORES [var for x in range( 10 )]  \n",
        "- Al ser una clase contiene muchos metodos utiles     "
      ]
    },
    {
      "cell_type": "code",
      "metadata": {
        "colab": {
          "base_uri": "https://localhost:8080/"
        },
        "id": "5CpYomPoFbF7",
        "outputId": "780f3a15-311f-400e-f7f2-c8bdc8f98e04"
      },
      "source": [
        "numeros = [10, 5,2, 3, 1]\n",
        "print(numeros)\n",
        "\n",
        "numeros2 = list()\n",
        "numeros2.append(10)\n",
        "numeros2.append(5)\n",
        "numeros2.append(2)\n",
        "numeros2.append(3)\n",
        "numeros2.append(1)\n",
        "print(numeros2)\n",
        "numeros[2] = 20\n",
        "print(numeros)\n",
        "numeros[ -1 ] = 33\n",
        "print(numeros)"
      ],
      "execution_count": null,
      "outputs": [
        {
          "output_type": "stream",
          "name": "stdout",
          "text": [
            "[10, 5, 2, 3, 1]\n",
            "[10, 5, 2, 3, 1]\n",
            "[10, 5, 20, 3, 1]\n",
            "[10, 5, 20, 3, 33]\n"
          ]
        }
      ]
    },
    {
      "cell_type": "code",
      "metadata": {
        "colab": {
          "base_uri": "https://localhost:8080/"
        },
        "id": "KXG_uE_gIrgo",
        "outputId": "e1d75fea-ddf5-459c-dc69-a399bdf26b2a"
      },
      "source": [
        "\n",
        "# tipos diversos\n",
        "\n",
        "cosas = [12, 2, True , \"Saúl\" , 1.70 , [\"pera\" , \"Kiwi\" , \"uva\" ] ]\n",
        "print(cosas)\n",
        "print( cosas[1] )\n",
        "print( cosas[4] )\n",
        "print( cosas[5] )\n",
        "print( cosas[5][0] )\n",
        "print( cosas[3][1:3] )\n",
        "cosas[3] = cosas[3].upper()\n",
        "print(cosas)"
      ],
      "execution_count": null,
      "outputs": [
        {
          "output_type": "stream",
          "name": "stdout",
          "text": [
            "[12, 2, True, 'Saúl', 1.7, ['pera', 'Kiwi', 'uva']]\n",
            "2\n",
            "1.7\n",
            "['pera', 'Kiwi', 'uva']\n",
            "pera\n",
            "aú\n",
            "[12, 2, True, 'SAÚL', 1.7, ['pera', 'Kiwi', 'uva']]\n"
          ]
        }
      ]
    },
    {
      "cell_type": "code",
      "metadata": {
        "colab": {
          "base_uri": "https://localhost:8080/"
        },
        "id": "oMuLw__8L46X",
        "outputId": "520046dc-59ba-44fd-f205-dc96610df48d"
      },
      "source": [
        "numeros = [1,2,3,4,5,6,7,8,9,10,11]\n",
        "print(numeros)\n",
        "# slicing\n",
        "# 1. 4 al 8\n",
        "print( numeros[3:8])\n",
        "# 2: [9,10]\n",
        "print( numeros[8:10])\n",
        "print( numeros[-3:-1])\n",
        "# 3. Primero el orden debera ser inverso [11,10,9,8,...]\n",
        "print(numeros[::-1])"
      ],
      "execution_count": null,
      "outputs": [
        {
          "output_type": "stream",
          "name": "stdout",
          "text": [
            "[1, 2, 3, 4, 5, 6, 7, 8, 9, 10, 11]\n",
            "[4, 5, 6, 7, 8]\n",
            "[9, 10]\n",
            "[9, 10]\n",
            "[11, 10, 9, 8, 7, 6, 5, 4, 3, 2, 1]\n"
          ]
        }
      ]
    },
    {
      "cell_type": "code",
      "metadata": {
        "colab": {
          "base_uri": "https://localhost:8080/"
        },
        "id": "XQwH7-VmPoBk",
        "outputId": "e7248d2d-c6c0-4f60-dbb8-eab648416a35"
      },
      "source": [
        "#Crear una lsita con un generador\n",
        "numeros = [ x for x in range(101) ]\n",
        "print(numeros)"
      ],
      "execution_count": null,
      "outputs": [
        {
          "output_type": "stream",
          "name": "stdout",
          "text": [
            "[0, 1, 2, 3, 4, 5, 6, 7, 8, 9, 10, 11, 12, 13, 14, 15, 16, 17, 18, 19, 20, 21, 22, 23, 24, 25, 26, 27, 28, 29, 30, 31, 32, 33, 34, 35, 36, 37, 38, 39, 40, 41, 42, 43, 44, 45, 46, 47, 48, 49, 50, 51, 52, 53, 54, 55, 56, 57, 58, 59, 60, 61, 62, 63, 64, 65, 66, 67, 68, 69, 70, 71, 72, 73, 74, 75, 76, 77, 78, 79, 80, 81, 82, 83, 84, 85, 86, 87, 88, 89, 90, 91, 92, 93, 94, 95, 96, 97, 98, 99, 100]\n"
          ]
        }
      ]
    },
    {
      "cell_type": "markdown",
      "metadata": {
        "id": "9phLrxMzQXGd"
      },
      "source": [
        "# función range()\n",
        "\n",
        "Tiene los mismos componentes que slicing\n",
        "\n",
        "ini , stop , incremento\n",
        "\n",
        "range(1, 101 , 1)\n",
        "\n"
      ]
    },
    {
      "cell_type": "code",
      "metadata": {
        "colab": {
          "base_uri": "https://localhost:8080/"
        },
        "id": "0XXXnsI2QsIm",
        "outputId": "9ba904a1-19d9-494d-d8a1-a373ddc0e8eb"
      },
      "source": [
        "numeros = [ x for x in range(50, 101) ]\n",
        "print(numeros)"
      ],
      "execution_count": null,
      "outputs": [
        {
          "output_type": "stream",
          "name": "stdout",
          "text": [
            "[50, 51, 52, 53, 54, 55, 56, 57, 58, 59, 60, 61, 62, 63, 64, 65, 66, 67, 68, 69, 70, 71, 72, 73, 74, 75, 76, 77, 78, 79, 80, 81, 82, 83, 84, 85, 86, 87, 88, 89, 90, 91, 92, 93, 94, 95, 96, 97, 98, 99, 100]\n"
          ]
        }
      ]
    },
    {
      "cell_type": "markdown",
      "metadata": {
        "id": "p9MLj8RpROAY"
      },
      "source": [
        "# Metodos disponibles de las Listas\n"
      ]
    },
    {
      "cell_type": "code",
      "metadata": {
        "colab": {
          "base_uri": "https://localhost:8080/"
        },
        "id": "zkuqCfsTRQ3g",
        "outputId": "5906d405-0fa1-48e1-d50b-eeda294c1cce"
      },
      "source": [
        "dir(list)"
      ],
      "execution_count": null,
      "outputs": [
        {
          "output_type": "execute_result",
          "data": {
            "text/plain": [
              "['__add__',\n",
              " '__class__',\n",
              " '__contains__',\n",
              " '__delattr__',\n",
              " '__delitem__',\n",
              " '__dir__',\n",
              " '__doc__',\n",
              " '__eq__',\n",
              " '__format__',\n",
              " '__ge__',\n",
              " '__getattribute__',\n",
              " '__getitem__',\n",
              " '__gt__',\n",
              " '__hash__',\n",
              " '__iadd__',\n",
              " '__imul__',\n",
              " '__init__',\n",
              " '__init_subclass__',\n",
              " '__iter__',\n",
              " '__le__',\n",
              " '__len__',\n",
              " '__lt__',\n",
              " '__mul__',\n",
              " '__ne__',\n",
              " '__new__',\n",
              " '__reduce__',\n",
              " '__reduce_ex__',\n",
              " '__repr__',\n",
              " '__reversed__',\n",
              " '__rmul__',\n",
              " '__setattr__',\n",
              " '__setitem__',\n",
              " '__sizeof__',\n",
              " '__str__',\n",
              " '__subclasshook__',\n",
              " 'append',\n",
              " 'clear',\n",
              " 'copy',\n",
              " 'count',\n",
              " 'extend',\n",
              " 'index',\n",
              " 'insert',\n",
              " 'pop',\n",
              " 'remove',\n",
              " 'reverse',\n",
              " 'sort']"
            ]
          },
          "metadata": {},
          "execution_count": 32
        }
      ]
    },
    {
      "cell_type": "code",
      "metadata": {
        "colab": {
          "base_uri": "https://localhost:8080/"
        },
        "id": "Ii5g_CyUSZn2",
        "outputId": "233bd82f-1192-45df-f296-60418a7e66bf"
      },
      "source": [
        "numeros = [ 4,1,15,8,22,34,50,15 ]\n",
        "print(numeros)\n",
        "numeros.append( 99)\n",
        "print(numeros)\n",
        "\n",
        "#numeros.clear()\n",
        "#numeros = []\n",
        "print(numeros)\n",
        "\n",
        "frutas = [\"uvas\" , \"kiwi\" , \"manzana\" ]\n",
        "copia = frutas\n",
        "print( frutas )\n",
        "print( copia )\n",
        "frutas.append(\"Naranja\")\n",
        "print( frutas )\n",
        "print( copia )\n",
        "\n",
        "\n",
        "colores = [\"rojo\" , \"azul\" , \"blanco\"]\n",
        "copia2 = colores.copy()\n",
        "print(colores)\n",
        "\n",
        "print(copia2)\n",
        "\n",
        "colores.append(\"Verde\")\n",
        "print(colores)\n",
        "\n",
        "print(copia2)\n",
        "\n",
        "print(\"Numero de veces que aparece el 15 es: \" , numeros.count(15) )\n",
        "\n",
        "# Extend \n",
        "nombres = [\"jose\" , \"pedro\" , \"karina\"]\n",
        "otrosNombres = [\"josue\" , \"diana\" , \"dalia\"] \n",
        "\n",
        "print(nombres)\n",
        "print(otrosNombres)\n",
        "nombres = nombres + otrosNombres\n",
        "print(nombres)\n",
        "print(otrosNombres)\n",
        "\n",
        "# Lo mismo con el método extend\n",
        "otrosNombres.extend( [\"Jesus\" , \"María\" , \"Jose\"])\n",
        "print(otrosNombres)\n",
        "\n",
        "print(\"Jesus esta en la posición:\" , otrosNombres.index(\"Jesus\") )\n",
        "\n",
        "otrosNombres.insert(4,\"Espiritu santo\")\n",
        "print(otrosNombres)\n",
        "\n",
        "# Pop \n",
        "resultado = otrosNombres.pop()\n",
        "print(otrosNombres)\n",
        "print(resultado)\n"
      ],
      "execution_count": null,
      "outputs": [
        {
          "output_type": "stream",
          "name": "stdout",
          "text": [
            "[4, 1, 15, 8, 22, 34, 50, 15]\n",
            "[4, 1, 15, 8, 22, 34, 50, 15, 99]\n",
            "[4, 1, 15, 8, 22, 34, 50, 15, 99]\n",
            "['uvas', 'kiwi', 'manzana']\n",
            "['uvas', 'kiwi', 'manzana']\n",
            "['uvas', 'kiwi', 'manzana', 'Naranja']\n",
            "['uvas', 'kiwi', 'manzana', 'Naranja']\n",
            "['rojo', 'azul', 'blanco']\n",
            "['rojo', 'azul', 'blanco']\n",
            "['rojo', 'azul', 'blanco', 'Verde']\n",
            "['rojo', 'azul', 'blanco']\n",
            "Numero de veces que aparece el 15 es:  2\n",
            "['jose', 'pedro', 'karina']\n",
            "['josue', 'diana', 'dalia']\n",
            "['jose', 'pedro', 'karina', 'josue', 'diana', 'dalia']\n",
            "['josue', 'diana', 'dalia']\n",
            "['josue', 'diana', 'dalia', 'Jesus', 'María', 'Jose']\n",
            "Jesus esta en la posición: 3\n",
            "['josue', 'diana', 'dalia', 'Jesus', 'Espiritu santo', 'María', 'Jose']\n",
            "['josue', 'diana', 'dalia', 'Jesus', 'Espiritu santo', 'María']\n",
            "Jose\n"
          ]
        }
      ]
    },
    {
      "cell_type": "markdown",
      "metadata": {
        "id": "07kpXZo5HwCa"
      },
      "source": [
        "# 9 DE NOVIEMBRE DEL 2021"
      ]
    },
    {
      "cell_type": "markdown",
      "metadata": {
        "id": "_HBDivKBv9fK"
      },
      "source": [
        "# Tuplas\n",
        "\n",
        "### Caracteristicas de las Tuplas\n",
        "\n",
        "- Datos Agrupados.\n",
        "- Se declara usando:\n",
        "    - ( )\n",
        "    - tuple ()\n",
        "- Estructura secuencial, indexada desde a partir de 0, al igual que las listas.\n",
        "- Pueden tener de 0 a n elementos.\n",
        "- NO SON MUTABLES (No se puede: Eliminar y/o cambiar).\n",
        "- Son buenas para almacenar infromación de consulta.\n",
        "- Pueden almacenar información de diferentes tipos de datos.\n",
        "- Pueden estar anidadas.\n",
        "- Tienen metodos utiles."
      ]
    },
    {
      "cell_type": "code",
      "metadata": {
        "colab": {
          "base_uri": "https://localhost:8080/"
        },
        "id": "LY9HQAfaw84o",
        "outputId": "457daf4e-412b-4c1e-cb18-4581136a3578"
      },
      "source": [
        "info = (\"juan23\" , \"dios1234\" , \"123.232.1.12\" )\n",
        "print( info )\n",
        "print( info[ 1 ] )\n",
        "#info[ 1 ] = \"patito23\"\n",
        "#No se pueden agregar mas datos a las tuplas , son inmutables \n",
        "\n",
        "numeros = (0,1,2,3,4,5,6,7,8,9,10,11,12,13,14,15)\n",
        "print( numeros )\n",
        "print( numeros[5:11])\n",
        "\n",
        "cosas = ( info , numeros )\n",
        "print( cosas )\n",
        "print( cosas[1][5:11])\n",
        "print( cosas[0][2][4:7])"
      ],
      "execution_count": null,
      "outputs": [
        {
          "output_type": "stream",
          "name": "stdout",
          "text": [
            "('juan23', 'dios1234', '123.232.1.12')\n",
            "dios1234\n",
            "(0, 1, 2, 3, 4, 5, 6, 7, 8, 9, 10, 11, 12, 13, 14, 15)\n",
            "(5, 6, 7, 8, 9, 10)\n",
            "(('juan23', 'dios1234', '123.232.1.12'), (0, 1, 2, 3, 4, 5, 6, 7, 8, 9, 10, 11, 12, 13, 14, 15))\n",
            "(5, 6, 7, 8, 9, 10)\n",
            "232\n"
          ]
        }
      ]
    },
    {
      "cell_type": "markdown",
      "metadata": {
        "id": "5npDGY2q0rah"
      },
      "source": [
        "# Metodos de las tuplas\n",
        "\n",
        "Son los mismos de las listas pero los que no involucren mutabilidad"
      ]
    },
    {
      "cell_type": "code",
      "metadata": {
        "colab": {
          "base_uri": "https://localhost:8080/"
        },
        "id": "pcli1kMs008v",
        "outputId": "bd416c3f-8fed-4b95-f0cc-54dbc73ed718"
      },
      "source": [
        "dir(tuple)"
      ],
      "execution_count": null,
      "outputs": [
        {
          "output_type": "execute_result",
          "data": {
            "text/plain": [
              "['__add__',\n",
              " '__class__',\n",
              " '__contains__',\n",
              " '__delattr__',\n",
              " '__dir__',\n",
              " '__doc__',\n",
              " '__eq__',\n",
              " '__format__',\n",
              " '__ge__',\n",
              " '__getattribute__',\n",
              " '__getitem__',\n",
              " '__getnewargs__',\n",
              " '__gt__',\n",
              " '__hash__',\n",
              " '__init__',\n",
              " '__init_subclass__',\n",
              " '__iter__',\n",
              " '__le__',\n",
              " '__len__',\n",
              " '__lt__',\n",
              " '__mul__',\n",
              " '__ne__',\n",
              " '__new__',\n",
              " '__reduce__',\n",
              " '__reduce_ex__',\n",
              " '__repr__',\n",
              " '__rmul__',\n",
              " '__setattr__',\n",
              " '__sizeof__',\n",
              " '__str__',\n",
              " '__subclasshook__',\n",
              " 'count',\n",
              " 'index']"
            ]
          },
          "metadata": {},
          "execution_count": 10
        }
      ]
    },
    {
      "cell_type": "markdown",
      "metadata": {
        "id": "RLiGhgsh2u9t"
      },
      "source": [
        "# Diccionarios\n",
        "### Caracteristicas de los diccionarios\n",
        "\n",
        "- Agrupan datos pero de forma no lineal.\n",
        "- Se declaran con:\n",
        "     - {}\n",
        "     - dict()\n",
        "- Formado por apres del tipo llave:valor , donde:\n",
        "      - Llave es de tipo string (Siempre)\n",
        "      - valor puede ser de cualquier tipo de datos, incluyendo los diccionarios.\n",
        "-  Se seleccionan con la llave de la forma: [\"id_llave\"]\n",
        "- Son mutables\n",
        "- Son anidables\n",
        "- Son equivalentes al tipo de dato JSON del lenguaje JavaScript (JS)\n"
      ]
    },
    {
      "cell_type": "code",
      "metadata": {
        "colab": {
          "base_uri": "https://localhost:8080/"
        },
        "id": "DGWMdV-k40hl",
        "outputId": "7d322e02-24da-4da2-ac0f-a1aa8007ced5"
      },
      "source": [
        "alumno = { \"nombre\" : \"José\" }\n",
        "print( alumno )\n",
        "print( alumno[\"nombre\"])\n",
        "\n",
        "alumno = {\"nombre\":\"José\",\"nc\":\"2129229292\", \"edad\":18 }\n",
        "print(\"Edad del alumno = \" , alumno[\"edad\"])\n",
        "print(alumno[\"nombre\"].upper())\n",
        "print(alumno)\n",
        "\n",
        "alumno2 = dict() #()\n",
        "alumno2[\"nombre\"] = \"jose\"\n",
        "print(alumno2)\n",
        "alumno2[\"nc\"] = \"219199292\"\n",
        "alumno2[\"edad\"] = 18\n",
        "print(alumno2)\n",
        "\n",
        "alumno2[\"edad\"] = alumno2[\"edad\"] + 1\n",
        "print(alumno2)"
      ],
      "execution_count": null,
      "outputs": [
        {
          "output_type": "stream",
          "name": "stdout",
          "text": [
            "{'nombre': 'José'}\n",
            "José\n",
            "Edad del alumno =  18\n",
            "JOSÉ\n",
            "{'nombre': 'José', 'nc': '2129229292', 'edad': 18}\n",
            "{'nombre': 'jose'}\n",
            "{'nombre': 'jose', 'nc': '219199292', 'edad': 18}\n",
            "{'nombre': 'jose', 'nc': '219199292', 'edad': 19}\n"
          ]
        }
      ]
    },
    {
      "cell_type": "markdown",
      "metadata": {
        "id": "mvUFgrAo8UtJ"
      },
      "source": [
        "cliente = { \"id\":\"CT2121\" ,\n",
        "           \"nombre\" :{\n",
        "               \"nombres\" : [\"José\", \"Eduardo\"],\n",
        "               \"paterno\" : \"Pedroza\",\n",
        "               \"materno\" : \"Rosales\"\n",
        "           }  ,\n",
        "           \"telefonos\" : {\n",
        "               \"casa\":\"551725362\",\n",
        "               \"trabajo\":\"552116674\",\n",
        "               \"celular\":\"04455331477\"\n",
        "           },\n",
        "           \"productos\":{  \n",
        "               \"ahorro\":{ \"numero_cuenta\":\"7788\" , \"ahorro\": 2500.50 },\n",
        "               \"tarjetas\":[ \n",
        "                            {\"tipo\":\"debito\" , \"saldo\" : 1000.5},\n",
        "                            {\"tipo\":\"credito preferente\" , \"limite\":250000.5},\n",
        "                            {\"tipo\":\"lite\" , \"limite\":15000.5}\n",
        "                            \n",
        "               ]\n",
        "           },\n",
        "           \"dirección\":{ \n",
        "               \"calle\":\"Av. central\",\n",
        "               \"numero\" : 1245,\n",
        "               \"colonia\" : \"Impulsora\",\n",
        "               \"delegación\" : \"Neza\",\n",
        "               \"estado\" : { \n",
        "                         \"clave\" : 15,\n",
        "                         \"nombre corto\" : \"EdoMex\",\n",
        "                         \"nombre\": \"Estado de México\"\n",
        "               }\n",
        "\n",
        "           }\n",
        "                     \n",
        "           \n",
        "            }\n",
        "print(cliente[\"telefonos\"][\"casa\"])\n",
        "print(\"------------------------\" )\n",
        "print(cliente)\n",
        "print(\"------------------------\" )\n",
        "print(cliente[\"productos\"][\"ahorro\"][\"ahorro\"])     \n",
        "print(\"------------------------\" )\n",
        "print( cliente [\"productos\"][\"tarjetas\"][2][\"limite\"])\n",
        "print(\"------------------------\" )\n",
        "print( cliente [\"dirección\"][\"estado\"][\"nombre\"].upper())\n",
        "print(\"------------------------\" )\n",
        "cliente[\"productos\"][\"ahorros\"][\"ahorro\"] -= 1500\n",
        "\n",
        "\n",
        "print(cliente[\"productos\"])"
      ]
    },
    {
      "cell_type": "code",
      "metadata": {
        "id": "4hHCVBz2B66Z",
        "colab": {
          "base_uri": "https://localhost:8080/"
        },
        "outputId": "f179457f-b2e9-4f07-ba68-42f0058264c5"
      },
      "source": [
        "cliente = { \"id\":\"CT2121\" ,\n",
        "           \"nombre\" :{\n",
        "               \"nombres\" : [\"José\", \"Eduardo\"],\n",
        "               \"paterno\" : \"Pedroza\",\n",
        "               \"materno\" : \"Rosales\"\n",
        "           }  ,\n",
        "           \"telefonos\" : {\n",
        "               \"casa\":\"551725362\",\n",
        "               \"trabajo\":\"552116674\",\n",
        "               \"celular\":\"04455331477\"\n",
        "           },\n",
        "           \"productos\":{  \n",
        "               \"ahorro\":{ \"numero_cuenta\":\"7788\" , \"ahorro\": 2500.50 },\n",
        "               \"tarjetas\":[ \n",
        "                            {\"tipo\":\"debito\" , \"saldo\" : 1000.5},\n",
        "                            {\"tipo\":\"credito preferente\" , \"limite\":250000.5},\n",
        "                            {\"tipo\":\"lite\" , \"limite\":15000.5}\n",
        "                            \n",
        "               ]\n",
        "           },\n",
        "           \"dirección\":{ \n",
        "               \"calle\":\"Av. central\",\n",
        "               \"numero\" : 1245,\n",
        "               \"colonia\" : \"Impulsora\",\n",
        "               \"delegación\" : \"Neza\",\n",
        "               \"estado\" : { \n",
        "                         \"clave\" : 15,\n",
        "                         \"nombre corto\" : \"EdoMex\",\n",
        "                         \"nombre\": \"Estado de México\"\n",
        "               }\n",
        "\n",
        "           }\n",
        "                     \n",
        "           \n",
        "            }\n",
        "print(cliente[\"telefonos\"][\"casa\"])\n",
        "print(\"------------------------\" )\n",
        "print(cliente)\n",
        "print(\"------------------------\" )\n",
        "print(cliente[\"productos\"][\"ahorro\"][\"ahorro\"])     \n",
        "print(\"------------------------\" )\n",
        "print( cliente [\"productos\"][\"tarjetas\"][2][\"limite\"])\n",
        "print(\"------------------------\" )\n",
        "print( cliente [\"dirección\"][\"estado\"][\"nombre\"].upper())\n",
        "print(\"------------------------\" )\n",
        "print(cliente[\"productos\"][\"ahorro\"][\"ahorro\"] - 1500)"
      ],
      "execution_count": 7,
      "outputs": [
        {
          "output_type": "stream",
          "name": "stdout",
          "text": [
            "551725362\n",
            "------------------------\n",
            "{'id': 'CT2121', 'nombre': {'nombres': ['José', 'Eduardo'], 'paterno': 'Pedroza', 'materno': 'Rosales'}, 'telefonos': {'casa': '551725362', 'trabajo': '552116674', 'celular': '04455331477'}, 'productos': {'ahorro': {'numero_cuenta': '7788', 'ahorro': 2500.5}, 'tarjetas': [{'tipo': 'debito', 'saldo': 1000.5}, {'tipo': 'credito preferente', 'limite': 250000.5}, {'tipo': 'lite', 'limite': 15000.5}]}, 'dirección': {'calle': 'Av. central', 'numero': 1245, 'colonia': 'Impulsora', 'delegación': 'Neza', 'estado': {'clave': 15, 'nombre corto': 'EdoMex', 'nombre': 'Estado de México'}}}\n",
            "------------------------\n",
            "2500.5\n",
            "------------------------\n",
            "15000.5\n",
            "------------------------\n",
            "ESTADO DE MÉXICO\n",
            "------------------------\n",
            "1000.5\n"
          ]
        }
      ]
    },
    {
      "cell_type": "markdown",
      "metadata": {
        "id": "GsUe91G_bJbR"
      },
      "source": [
        "# 11 DE NOVIEMBRE DEL 2021"
      ]
    },
    {
      "cell_type": "markdown",
      "metadata": {
        "id": "sbQHFNI9Mvtd"
      },
      "source": [
        "# Estructuras de control de programación\n",
        "\n",
        "Se puede crear cualquier tipo de algoritmo empleando solamente 3 estructuras de control:\n",
        "1. Secuencia\n",
        "    - La representación de la memoria de programa (Arquitectura Vonn Newman)\n",
        "2. Selección\n",
        "  - Es la estrucutra de control que decide si un bloque se ejecuta o no se ejecuta. Tambien permite seleccionar ejecutar un bloque entre un conjunto de opciones.\n",
        "    En resumen tenemos: Selección simple, selección con bifurcación y slección múltiple.\n",
        "2. Repetición\n",
        "   - Este tipo de estructura nos permite automatizar la ejecución repetitiva de codigo mientras ciertas condiciones se cumplan, tenemos 3 variantes de esta estructura en todos los lenguajes de programación:\n",
        "      - Desde... hasta (estructura for)\n",
        "      - Haz mientras (estrucutura While)\n",
        "      - Haz y luego validaz mientras (estructura Do-While)"
      ]
    },
    {
      "cell_type": "markdown",
      "metadata": {
        "id": "m48Sk8pQSGCG"
      },
      "source": [
        "# Seleccion simple\n",
        "\n",
        "-Documentar, o poner datos\n",
        "\n",
        "La estrcutura if\n",
        "\n",
        "```\n",
        "if CONDICION  :\n",
        "     Cuerpo del IF\n",
        "```\n",
        "**NOTA** Para establecer el cuerpo de una estructura de control en python se usan los tabuladores a la izquierda.\n",
        "\n",
        "En otros lenguajes de Programación com Java o C++, se usan las llaves de apertura y de cierre  { }\n",
        "```\n",
        "int edad=0;\n",
        "printf(\"Dame tu edad\");\n",
        "scanf(\"%i\", &edad );\n",
        "if(edad >=18){\n",
        "  print(\"Eres mayor de edad\");\n",
        "}\n",
        "printf(\"Fun de programa\");\n",
        "\n",
        "```"
      ]
    },
    {
      "cell_type": "code",
      "metadata": {
        "colab": {
          "base_uri": "https://localhost:8080/"
        },
        "id": "DzwO6mYkSLnz",
        "outputId": "563d9163-95ad-45d9-c63b-efb646e71855"
      },
      "source": [
        "edad = int( input(\"Dame tu edad:\") )\n",
        "print(f\"Tecleaste {edad} años\")\n",
        "if edad >= 18 :\n",
        "  print(\"ERES MAYOR DE EDAD\")\n",
        "  print(\"Algo\")\n",
        "print(\"Gracias por participar\")  \n",
        "print(\"Fin del programa\")  "
      ],
      "execution_count": 15,
      "outputs": [
        {
          "output_type": "stream",
          "name": "stdout",
          "text": [
            "Dame tu edad:20\n",
            "Tecleaste 20 años\n",
            "ERES MAYOR DE EDAD\n",
            "Algo\n",
            "Gracias por participar\n",
            "Fin del programa\n"
          ]
        }
      ]
    },
    {
      "cell_type": "code",
      "metadata": {
        "colab": {
          "base_uri": "https://localhost:8080/"
        },
        "id": "OVPcnzKgWaRa",
        "outputId": "c23b217d-4236-471f-bfbc-0e4249f94807"
      },
      "source": [
        "cal = float( input(\"Dame tu calificación:\") )\n",
        "print(f\"Tu calificación es {cal}\")\n",
        "if cal > 8 :\n",
        "  print(\"Felicidades Aprobaste\")\n",
        "  print(\"Fin\")\n",
        "if cal < 8 :  \n",
        "  print(\"LO SIENTO NO APROBASTE\")  "
      ],
      "execution_count": 24,
      "outputs": [
        {
          "output_type": "stream",
          "name": "stdout",
          "text": [
            "Dame tu calificación:7.9\n",
            "Tu calificación es 7.9\n",
            "LO SIENTO NO APROBASTE\n"
          ]
        }
      ]
    },
    {
      "cell_type": "code",
      "metadata": {
        "colab": {
          "base_uri": "https://localhost:8080/"
        },
        "id": "T8l0iqrtXeRU",
        "outputId": "b3da4f76-e8d2-4444-a698-646bcf491f0d"
      },
      "source": [
        "suel = float( input(\"Dame tu sueldo:\" ) )\n",
        "\n",
        "if suel > 1000 :\n",
        "  print(\"No recibe aumento, tu sueldo es\" , suel )\n",
        "if suel < 1000 :\n",
        "   aum = suel*1.15\n",
        "   nsue = suel + aum \n",
        "   print(\"Tu nuevo sueldo es:\" , nsue)"
      ],
      "execution_count": 37,
      "outputs": [
        {
          "output_type": "stream",
          "name": "stdout",
          "text": [
            "Dame tu sueldo:1224\n",
            "No recibe aumento, tu sueldo es 1224.0\n"
          ]
        }
      ]
    }
  ]
}