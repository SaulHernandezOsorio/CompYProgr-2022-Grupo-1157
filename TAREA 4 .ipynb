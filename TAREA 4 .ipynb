{
  "nbformat": 4,
  "nbformat_minor": 0,
  "metadata": {
    "colab": {
      "name": "Untitled1.ipynb",
      "provenance": [],
      "authorship_tag": "ABX9TyOpIplE+of9zvs4O1OvpTpQ",
      "include_colab_link": true
    },
    "kernelspec": {
      "name": "python3",
      "display_name": "Python 3"
    },
    "language_info": {
      "name": "python"
    }
  },
  "cells": [
    {
      "cell_type": "markdown",
      "metadata": {
        "id": "view-in-github",
        "colab_type": "text"
      },
      "source": [
        "<a href=\"https://colab.research.google.com/github/SaulHernandezOsorio/CompYProgr-2022-Grupo-1157/blob/main/TAREA%204%20.ipynb\" target=\"_parent\"><img src=\"https://colab.research.google.com/assets/colab-badge.svg\" alt=\"Open In Colab\"/></a>"
      ]
    },
    {
      "cell_type": "markdown",
      "metadata": {
        "id": "TtjoVrccMkSj"
      },
      "source": [
        "### TAREA 4\n",
        " # 21-OCT-2021\n",
        "\n",
        " # Con una sola función POR LETRA print escribir su primer nombre de la siguiente forma"
      ]
    },
    {
      "cell_type": "code",
      "metadata": {
        "colab": {
          "base_uri": "https://localhost:8080/"
        },
        "id": "s74-0ovtMhAn",
        "outputId": "f0329b3c-57d3-43f5-c255-220b70f60184"
      },
      "source": [
        "print(\"\\n\\tSSSSSSSSSSS     A     U     U L  \\n\\tS              A A    U     U L \\n\\tS             A   A   U     U L \\n\\tSSSSSSSSSSS  A     A  U     U L \\n\\t          S  AAAAAAA  U     U L\\n\\t          S  A     A  U     U L  \\n\\tSSSSSSSSSSS  A     A  UUUUUUU LLLLLLLLL\")"
      ],
      "execution_count": 1,
      "outputs": [
        {
          "output_type": "stream",
          "name": "stdout",
          "text": [
            "\n",
            "\tSSSSSSSSSSS     A     U     U L  \n",
            "\tS              A A    U     U L \n",
            "\tS             A   A   U     U L \n",
            "\tSSSSSSSSSSS  A     A  U     U L \n",
            "\t          S  AAAAAAA  U     U L\n",
            "\t          S  A     A  U     U L  \n",
            "\tSSSSSSSSSSS  A     A  UUUUUUU LLLLLLLLL\n"
          ]
        }
      ]
    },
    {
      "cell_type": "code",
      "metadata": {
        "colab": {
          "base_uri": "https://localhost:8080/"
        },
        "id": "-pKVs9pHM5D_",
        "outputId": "387881b6-7a1c-4f97-d4f8-e38ce63043ee"
      },
      "source": [
        "print(\"\\n\\tSSSSSSSSSSS \\n\\tS \\n\\tS \\n\\tSSSSSSSSSSS \\n\\t          S \\n\\t          S \\n\\tSSSSSSSSSSS \\n\\t \\n\\t   A   \\n\\t  A A  \\n\\t A   A \\n\\tA     A \\n\\tAAAAAAA \\n\\tA     A\\n\\tA     A\\n\\t \\n\\tU     U \\n\\tU     U \\n\\tU     U \\n\\tU     U \\n\\tU     U \\n\\tU     U \\n\\tUUUUUUU \\n\\t \\n\\tL\\n\\tL\\n\\tL\\n\\tL\\n\\tL\\n\\tL\\n\\tLLLLLLLLL\")"
      ],
      "execution_count": 2,
      "outputs": [
        {
          "output_type": "stream",
          "name": "stdout",
          "text": [
            "\n",
            "\tSSSSSSSSSSS \n",
            "\tS \n",
            "\tS \n",
            "\tSSSSSSSSSSS \n",
            "\t          S \n",
            "\t          S \n",
            "\tSSSSSSSSSSS \n",
            "\t \n",
            "\t   A   \n",
            "\t  A A  \n",
            "\t A   A \n",
            "\tA     A \n",
            "\tAAAAAAA \n",
            "\tA     A\n",
            "\tA     A\n",
            "\t \n",
            "\tU     U \n",
            "\tU     U \n",
            "\tU     U \n",
            "\tU     U \n",
            "\tU     U \n",
            "\tU     U \n",
            "\tUUUUUUU \n",
            "\t \n",
            "\tL\n",
            "\tL\n",
            "\tL\n",
            "\tL\n",
            "\tL\n",
            "\tL\n",
            "\tLLLLLLLLL\n"
          ]
        }
      ]
    }
  ]
}