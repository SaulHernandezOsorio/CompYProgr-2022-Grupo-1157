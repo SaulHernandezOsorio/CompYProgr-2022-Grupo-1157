{
  "nbformat": 4,
  "nbformat_minor": 0,
  "metadata": {
    "colab": {
      "name": "fundamentosCyP 22/10/2021 .ipynb",
      "provenance": [],
      "authorship_tag": "ABX9TyNPhU9eoi6FNNUZjPpGMFa8",
      "include_colab_link": true
    },
    "kernelspec": {
      "name": "python3",
      "display_name": "Python 3"
    },
    "language_info": {
      "name": "python"
    }
  },
  "cells": [
    {
      "cell_type": "markdown",
      "metadata": {
        "id": "view-in-github",
        "colab_type": "text"
      },
      "source": [
        "<a href=\"https://colab.research.google.com/github/SaulHernandezOsorio/CompYProgr-2022-Grupo-1157/blob/main/fundamentosCyP_22_10_2021_.ipynb\" target=\"_parent\"><img src=\"https://colab.research.google.com/assets/colab-badge.svg\" alt=\"Open In Colab\"/></a>"
      ]
    },
    {
      "cell_type": "code",
      "metadata": {
        "colab": {
          "base_uri": "https://localhost:8080/"
        },
        "id": "cnYJdNT4VVkl",
        "outputId": "8a839559-a3dd-4df7-eebf-0a7306862487"
      },
      "source": [
        "nombre = \"Jose\" # Tipo de dato String (cadena de caracteres)\n",
        "\n",
        "print( nombre )\n",
        "\n"
      ],
      "execution_count": 1,
      "outputs": [
        {
          "output_type": "stream",
          "name": "stdout",
          "text": [
            "Jose\n"
          ]
        }
      ]
    },
    {
      "cell_type": "markdown",
      "metadata": {
        "id": "rZxH-i9GXVOT"
      },
      "source": [
        "# Tipos de dato en Python\n",
        "\n",
        "### Tipos Simples\n",
        "- str --- String cadena de caractéres\n",
        "- int --- Numeros enteros\n",
        "- float --- Numeros con notación de punto flotante o decimal\n",
        "- complex --- Numeros complejos\n",
        "- bool --- Boleano (True o Fals)\n",
        "- byte --- 8 bits\n",
        "\n",
        "### Tipos de datos estructurados (compuestos)\n",
        "\n",
        "- list --- Listas (Arreglos en otros lenguajes)\n",
        "- dict --- diccionarios\n",
        "- set y frozenset --- Conjuntos\n",
        "- tuple --- Listas no mutables\n"
      ]
    },
    {
      "cell_type": "code",
      "metadata": {
        "colab": {
          "base_uri": "https://localhost:8080/"
        },
        "id": "7r0SUTo4aYNp",
        "outputId": "63611296-87d5-4c82-8d5c-85046edb7f9f"
      },
      "source": [
        "import sys\n",
        "\n",
        "edad = 19\n",
        "print( \"Tu edad es: \" , edad ) # al final de una linea de código\n",
        "# Este es un comentario de linea simple\n",
        "\n",
        "\"\"\"\n",
        "Comentario de multiple línea\n",
        "En lenguaje C, C++ y Java el comentario de multiple línea es con \n",
        "/* ...... */\n",
        "\n",
        "En lenguaje C, C++ y Java el comentario de una sola linea es con :\n",
        "\n",
        "//\n",
        "\n",
        "Aqui puedes explicar en prosa el segmento de un codigo para futuras revisiones\n",
        "\n",
        "\"\"\"\n",
        "# Tipos de dato Numerico int y float\n",
        "\n",
        "print( sys.getsizeof(edad) )\n",
        "# el tipo de dato INT utiliza diferente cantidad de bits segun el \n",
        "# leg de prog. por ejemplo en C utiliza 16 bits\n",
        "edad = edad + 1\n",
        "\n",
        "print( edad )\n",
        "\n",
        "estatura  = 1.56\n",
        "print( estatura )\n",
        "print( sys.getsizeof(estatura) )\n",
        "estatura  = estatura + 0.1\n",
        "print( estatura )\n",
        "\n",
        "print( round(estatura,2) )\n",
        "\n",
        "edad += 1  # edad = edad + 1\n",
        "print(\"Tu edad es:\", edad )\n",
        "\n",
        "edad -= 1  # edad = edad - 1\n",
        "print(\"Tu edad es:\", edad )\n",
        "\n",
        "edad+= 1 #Vuelve a 21\n",
        "edad /= 2  # edad = edad / 2\n",
        "print(\"La mitad de tu edad es:\", edad )\n",
        "\n",
        "\n",
        "edad=21\n",
        "# volver a caluclar la mitad de la edad pero solo dejar \n",
        "# parte entera\n",
        "edad = edad // 2\n",
        "print(\"La mitad de tu edad es:\", edad )\n",
        "\n",
        "# En la mayoria de los leng no permite operaciones entre\n",
        "# diferentes tipos de datos, en Python no es el caso\n",
        "\n",
        "numero = edad / 2.0 # División, se simplifica /=\n",
        "print( numero )\n",
        "\n",
        "numero *=  3 # Multiplicación , se simplifica *=\n",
        "print( numero )\n",
        "\n",
        "numero = 5.0\n",
        "numero = numero ** 3 # Potencia , se simplifica poniendo **=\n",
        "print( numero ) \n",
        "\n"
      ],
      "execution_count": 19,
      "outputs": [
        {
          "output_type": "stream",
          "name": "stdout",
          "text": [
            "Tu edad es:  19\n",
            "28\n",
            "20\n",
            "1.56\n",
            "24\n",
            "1.6600000000000001\n",
            "1.66\n",
            "Tu edad es: 21\n",
            "Tu edad es: 20\n",
            "La mitad de tu edad es: 10.5\n",
            "La mitad de tu edad es: 10\n",
            "5.0\n",
            "15.0\n",
            "125.0\n",
            "10.5\n"
          ]
        }
      ]
    },
    {
      "cell_type": "code",
      "metadata": {
        "colab": {
          "base_uri": "https://localhost:8080/"
        },
        "id": "vEJlESaXlt1X",
        "outputId": "5e931d7d-cfe9-49b9-d288-69948a2cc6ab"
      },
      "source": [
        "# Operador Modulo\n",
        "numero = 21\n",
        "print( numero / 2)\n",
        "print( numero // 2)\n",
        "\n",
        "# El operador módulo da como resultado el residuo de una división entera\n",
        "print( numero % 2 )\n",
        "\n",
        "numero = 24 \n",
        "print(\"Residuo de 24 / 5:\" , numero % 5 )\n",
        "\n",
        "#Operadores Relacionales (lógicos)\n",
        "print( numero % 2 == 0)\n",
        "\n",
        "# Diferenciales\n",
        "print( \"24 es diferente de 23\", numero!= 23) # Diferente que\n",
        "\n",
        "print(\"24 es mayor que 23\", numero > 23) # Mayor qué\n",
        "\n",
        "print(\"24 es menor que 23\", numero < 23) # Menor Qué\n",
        "\n",
        "print(\"24 es mayor o igual  que 24\", numero >= 23) # Mayor o Igual\n",
        "print(\"24 es menor o igual que 23\", numero <= 23) # Mayor o Igual\n",
        "\n",
        "\n",
        "print(\"El tipo de dato de la var numero es:\", type(numero) )\n",
        "print(\"El tipo de dato de la var numero  / 2.0 es:\", type(numero/2.0) )\n"
      ],
      "execution_count": 34,
      "outputs": [
        {
          "output_type": "stream",
          "name": "stdout",
          "text": [
            "10.5\n",
            "10\n",
            "1\n",
            "Residuo de 24 / 5: 4\n",
            "True\n",
            "24 es diferente de 23 True\n",
            "24 es mayor que 23 True\n",
            "24 es menor que 23 False\n",
            "24 es mayor o igual  que 24 True\n",
            "24 es menor o igual que 23 False\n",
            "El tipo de dato de la var numero es: <class 'int'>\n",
            "El tipo de dato de la var numero  / 2.0 es: <class 'float'>\n"
          ]
        }
      ]
    },
    {
      "cell_type": "markdown",
      "metadata": {
        "id": "V9PRW2mPpix9"
      },
      "source": [
        "# Tipo de dato String (str) en Python\n",
        "\n",
        "- Se maneja como un arreglo ( tipo de dato compuesto )\n",
        "- Se peude acceder a los elementos de el string por medio del indice del caracter.\n",
        "- Mutable\n",
        "- Tiene métodos útiles (potentes)\n",
        "- slicing"
      ]
    },
    {
      "cell_type": "code",
      "metadata": {
        "colab": {
          "base_uri": "https://localhost:8080/"
        },
        "id": "TsSH_PUeqL43",
        "outputId": "3442bb10-c13b-4790-e4e8-7ab298a10025"
      },
      "source": [
        "nombre = \"Jose\" # Palabras simples , comillas simples \n",
        "carrera = \"Ingenieria en computación\" # Palabras complejas  , comillas enteras\n",
        "frase = \"\"\"  El conocimiento \n",
        "me persigue,....\n",
        "pero\n",
        "yo soy más rápido\n",
        "\"\"\"\n",
        "print( nombre )\n",
        "print( carrera )\n",
        "print( frase )\n",
        "\n",
        "# La función type de Python te devuelve el tipo de dato de una variable( o esl )\n",
        "print( type(nombre) )\n",
        "\n",
        "paterno = str( \"Perez\" )\n",
        "print( paterno )\n"
      ],
      "execution_count": 33,
      "outputs": [
        {
          "output_type": "stream",
          "name": "stdout",
          "text": [
            "Jose\n",
            "Ingenieria en computación\n",
            "  El conocimiento \n",
            "me persigue,....\n",
            "pero\n",
            "yo soy más rápido\n",
            "\n",
            "<class 'str'>\n",
            "Perez\n"
          ]
        }
      ]
    },
    {
      "cell_type": "markdown",
      "metadata": {
        "id": "5dym_zoUjWIH"
      },
      "source": [
        "# Tarea\n",
        "Hacer un resumen de minimo una cuartilla de los origines del lenguaje Python .\n",
        "\n",
        "- ¿Por que de su creacion?\n",
        "- Caracteristicas principales\n",
        "- Diferencias con otros lenguajes\n",
        "\n",
        "Forma de entrega: A mano en un cuaderno, escanear y enviarla.\n"
      ]
    }
  ]
}