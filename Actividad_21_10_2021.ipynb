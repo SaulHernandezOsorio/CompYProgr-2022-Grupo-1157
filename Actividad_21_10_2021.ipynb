{
  "nbformat": 4,
  "nbformat_minor": 0,
  "metadata": {
    "colab": {
      "name": "Actividad 21-10-2021.ipynb",
      "provenance": [],
      "authorship_tag": "ABX9TyNsA9bdacIiT0tBbQ2gDNz5",
      "include_colab_link": true
    },
    "kernelspec": {
      "name": "python3",
      "display_name": "Python 3"
    },
    "language_info": {
      "name": "python"
    }
  },
  "cells": [
    {
      "cell_type": "markdown",
      "metadata": {
        "id": "view-in-github",
        "colab_type": "text"
      },
      "source": [
        "<a href=\"https://colab.research.google.com/github/SaulHernandezOsorio/CompYProgr-2022-Grupo-1157/blob/main/Actividad_21_10_2021.ipynb\" target=\"_parent\"><img src=\"https://colab.research.google.com/assets/colab-badge.svg\" alt=\"Open In Colab\"/></a>"
      ]
    },
    {
      "cell_type": "markdown",
      "metadata": {
        "id": "8knjQZkFDRgi"
      },
      "source": [
        "### 21 DE OCTUBRE DEL 2021"
      ]
    },
    {
      "cell_type": "markdown",
      "metadata": {
        "id": "HC2Cx02SCFDs"
      },
      "source": [
        "# STRING Y CARACTERES DE ESCAPE\n",
        "- \\\\\"   --> \"\n",
        "- \\\\'   --> '\n",
        "- \\n   --> Salto de linea (tecla enter)\n",
        "- \\t   --> tabulador spacios a la izq.\n",
        "- \\uxxxx  --> Caracteres unicode 16 bits (2 bytes)\n",
        "- \\Uxxxxxxxx --> unicode extendido\n",
        "- \\\\\\   --> \\\\   "
      ]
    },
    {
      "cell_type": "code",
      "metadata": {
        "colab": {
          "base_uri": "https://localhost:8080/"
        },
        "id": "OL8q5p0kCBhh",
        "outputId": "6ee3cd7a-6264-42fb-e9f7-fe84046e80cc"
      },
      "source": [
        "print(\"\\u0065\")\n",
        "print(\"\\u0444\")\n",
        "print(\"\\u0620\")\n",
        "print(\"\\U00010057\")\n",
        "print(\"\\U0001F60E\")\n",
        "print(\"\\U0001F9A0\")"
      ],
      "execution_count": 1,
      "outputs": [
        {
          "output_type": "stream",
          "name": "stdout",
          "text": [
            "e\n",
            "ф\n",
            "ؠ\n",
            "𐁗\n",
            "😎\n",
            "🦠\n"
          ]
        }
      ]
    },
    {
      "cell_type": "markdown",
      "metadata": {
        "id": "FO4cvp8kC4iu"
      },
      "source": [
        "#Función print\n",
        "\n",
        "### Se emplea para desplegar la información en la salida estandar, normalmente un monitor.\n",
        "\n",
        "- Formas de usar print\n",
        "- El argumento por defecto de print(end)\n",
        "- format()\n",
        "- operador f \"\"\n"
      ]
    },
    {
      "cell_type": "code",
      "metadata": {
        "colab": {
          "base_uri": "https://localhost:8080/"
        },
        "id": "ROjEAMuWC7to",
        "outputId": "7183aabb-ffbb-4853-e8d3-d9b641daaf0c"
      },
      "source": [
        "nombre = \"Jose\"\n",
        "edad = 18\n",
        "casado = False\n",
        "estatura = 1.67\n",
        "\"\"\"\n",
        "# Nombre: Jose\n",
        "    Edad: 18\n",
        "    Esta casado : False\n",
        "    Estatura en metros : 1.67\n",
        "\"\"\"\n",
        "# 1.- Con comas .- concatena haciendo unc asting(conversión a string automatica)\n",
        "# agrega un espacio\n",
        "\n",
        "print( nombre,edad,casado,estatura)\n",
        "print(\"Nombre: \" + nombre +\"\\n\\tEdad: \"+ str(edad) + \"\\n\\tEsta casado : \" +str(casado ) + \"\\n\\tEstatura en metros \" +str(estatura) )\n",
        "\n",
        "# 2.- con el simbolo de \"+\"\n",
        "# Concatenación en crudo.\n",
        "\n",
        "print( nombre + \" \"+str(edad) + \" \" +str(casado) +\" \" +str(estatura) )\n",
        "\n",
        "#3.- Dando formato a la salida con format\n",
        "print(\"\\nCon la función format{}\")\n",
        "print(\"Nombre: {}\\n\\tEdad: {}\\n\\tEsta casado: {}\\n\\testatura en metros:{}\".format(nombre,edad,casado, estatura))\n",
        "\n",
        "#4.- Con el operador f\" \"\n",
        "\n",
        "print(\"Con el operador f\\\" \\\"\")\n",
        "\n",
        "print(f\"Nombre: { nombre }\\n\\tEdad: { edad }\\n\\tEsta casado: { casado }\\n\\testatura en metros:{ estatura }\")\n",
        "\n",
        "\n",
        "# Como manejar el argumento end\n",
        "print(f\"Hola {nombre}\" , end=\" \" )\n",
        "print(\", Como estas?\" ,end=\" \")\n",
        "\n"
      ],
      "execution_count": 3,
      "outputs": [
        {
          "output_type": "stream",
          "name": "stdout",
          "text": [
            "Jose 18 False 1.67\n",
            "Nombre: Jose\n",
            "\tEdad: 18\n",
            "\tEsta casado : False\n",
            "\tEstatura en metros 1.67\n",
            "Jose 18 False 1.67\n",
            "\n",
            "Con la función format{}\n",
            "Nombre: Jose\n",
            "\tEdad: 18\n",
            "\tEsta casado: False\n",
            "\testatura en metros:1.67\n",
            "Con el operador f\" \"\n",
            "Nombre: Jose\n",
            "\tEdad: 18\n",
            "\tEsta casado: False\n",
            "\testatura en metros:1.67\n",
            "Hola Jose , Como estas? "
          ]
        }
      ]
    },
    {
      "cell_type": "markdown",
      "metadata": {
        "id": "iEgrhLYWDQr4"
      },
      "source": [
        ""
      ]
    },
    {
      "cell_type": "markdown",
      "metadata": {
        "id": "oULydRx8C-0m"
      },
      "source": [
        "#Con una sola función POR LETRA print escribir su primer nombre de la siguiente forma"
      ]
    },
    {
      "cell_type": "code",
      "metadata": {
        "colab": {
          "base_uri": "https://localhost:8080/"
        },
        "id": "Y-rOUgq7DCRt",
        "outputId": "1777f0a0-7100-4ff2-8c34-ef2bfdedce2a"
      },
      "source": [
        "print(\"\\n\\tSSSSSSSSSSS     A     U     U L  \\n\\tS              A A    U     U L \\n\\tS             A   A   U     U L \\n\\tSSSSSSSSSSS  A     A  U     U L \\n\\t          S  AAAAAAA  U     U L\\n\\t          S  A     A  U     U L  \\n\\tSSSSSSSSSSS  A     A  UUUUUUU LLLLLLLLL\")"
      ],
      "execution_count": 2,
      "outputs": [
        {
          "output_type": "stream",
          "name": "stdout",
          "text": [
            "\n",
            "\tSSSSSSSSSSS     A     U     U L  \n",
            "\tS              A A    U     U L \n",
            "\tS             A   A   U     U L \n",
            "\tSSSSSSSSSSS  A     A  U     U L \n",
            "\t          S  AAAAAAA  U     U L\n",
            "\t          S  A     A  U     U L  \n",
            "\tSSSSSSSSSSS  A     A  UUUUUUU LLLLLLLLL\n"
          ]
        }
      ]
    }
  ]
}