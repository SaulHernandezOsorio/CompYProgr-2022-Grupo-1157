{
  "nbformat": 4,
  "nbformat_minor": 0,
  "metadata": {
    "colab": {
      "name": "TAREA 5 .ipynb",
      "provenance": [],
      "authorship_tag": "ABX9TyMoDu1NsnCM7EFFDGh4S/Ej",
      "include_colab_link": true
    },
    "kernelspec": {
      "name": "python3",
      "display_name": "Python 3"
    },
    "language_info": {
      "name": "python"
    }
  },
  "cells": [
    {
      "cell_type": "markdown",
      "metadata": {
        "id": "view-in-github",
        "colab_type": "text"
      },
      "source": [
        "<a href=\"https://colab.research.google.com/github/SaulHernandezOsorio/CompYProgr-2022-Grupo-1157/blob/main/TAREA_5_.ipynb\" target=\"_parent\"><img src=\"https://colab.research.google.com/assets/colab-badge.svg\" alt=\"Open In Colab\"/></a>"
      ]
    },
    {
      "cell_type": "markdown",
      "metadata": {
        "id": "y_93IgKQiZpl"
      },
      "source": [
        "### Hacer un programa que pida dos numeros enteros y que imprima en pantalla lo siguiente:\n",
        "- cual es de ellos es el numero mayor\n",
        "- cual de ellos es el menor o en su defecto\n",
        "Imprimir que los valores son iguales"
      ]
    },
    {
      "cell_type": "code",
      "metadata": {
        "colab": {
          "base_uri": "https://localhost:8080/"
        },
        "id": "w8EJSSRWiW1Y",
        "outputId": "6e674c6b-8017-4eb7-f468-7521bb336151"
      },
      "source": [
        "NUM1 = int(input(\"Dame un primer numero entero: \"))\n",
        "NUM2 = int(input(\"Dame un segundo numero entero: \"))\n",
        "\n",
        "if NUM1 > NUM2 :\n",
        "    print(f\"El primer numero {NUM1} es mayor que el segundo {NUM2}\")\n",
        "elif NUM1 < NUM2 :\n",
        "    print(f\"El segundo numero {NUM2} es mayor al primero {NUM1} \")\n",
        "elif NUM1 == NUM2 :\n",
        "    print(f\"Los numeros son iguales\")\n",
        "\n",
        "print(\"FIN DEL PROGRAMA :3\")\n"
      ],
      "execution_count": 3,
      "outputs": [
        {
          "output_type": "stream",
          "name": "stdout",
          "text": [
            "Dame un primer numero entero: 15\n",
            "Dame un segundo numero entero: 15\n",
            "Los numeros son iguales\n",
            "FIN DEL PROGRAMA :3\n"
          ]
        }
      ]
    },
    {
      "cell_type": "markdown",
      "metadata": {
        "id": "hJC49m3plknc"
      },
      "source": [
        "#1- Hacer un programa que solicite 3 numeros enteros diferentes entre si y que imprima cual de los 3 es el mayor"
      ]
    },
    {
      "cell_type": "code",
      "metadata": {
        "colab": {
          "base_uri": "https://localhost:8080/"
        },
        "id": "bLFrE9Y-lppT",
        "outputId": "e720a07e-a59a-4f32-c42a-7e81141df5d0"
      },
      "source": [
        "NUM1 = int(input(\"Dame un primer numero entero: \"))\n",
        "NUM2 = int(input(\"Dame un segundo numero entero: \"))\n",
        "NUM3 = int(input(\"Dame un tercer numero entero: \"))\n",
        "if NUM1 > NUM2 and NUM1 > NUM3 :\n",
        "    print(f\"El primer numero {NUM1} es MAYOR a los demas\")\n",
        "elif NUM2 > NUM1 and NUM2 > NUM3 :\n",
        "    print(f\"El segundo numero {NUM2} es MAYOR a los demas\")\n",
        "elif NUM3 > NUM1 and NUM3 > NUM2 :\n",
        "    print(f\"El tercer numero {NUM3} es MAYOR a los demas\")\n",
        "\n",
        "print(\"FIN DEL PROGRAMA :3\")        \n",
        "\n"
      ],
      "execution_count": 5,
      "outputs": [
        {
          "output_type": "stream",
          "name": "stdout",
          "text": [
            "Dame un primer numero entero: 20\n",
            "Dame un segundo numero entero: 10\n",
            "Dame un tercer numero entero: 15\n",
            "El primer numero 20 es MAYOR a los demas\n",
            "FIN DEL PROGRAMA :3\n"
          ]
        }
      ]
    },
    {
      "cell_type": "markdown",
      "metadata": {
        "id": "cd300B2pq6yo"
      },
      "source": [
        "#2- Hacer un programa que solicite 3 numeros enteros diferentes entre si y que imprima cual de los 3 es el menor"
      ]
    },
    {
      "cell_type": "code",
      "metadata": {
        "colab": {
          "base_uri": "https://localhost:8080/"
        },
        "id": "ZrEFETNZq9sV",
        "outputId": "4e432f40-0bef-4dcb-c1ad-5c91bc9bcfbd"
      },
      "source": [
        "NUM1 = int(input(\"Dame un primer numero entero: \"))\n",
        "NUM2 = int(input(\"Dame un segundo numero entero: \"))\n",
        "NUM3 = int(input(\"Dame un tercer numero entero: \"))\n",
        "if NUM1 < NUM2 and NUM1 < NUM3 :\n",
        "    print(f\"El primer numero {NUM1} es MENOR a los demas\")\n",
        "elif NUM2 < NUM1 and NUM2 < NUM3 :\n",
        "    print(f\"El segundo numero {NUM2} es MENOR a los demas\")\n",
        "elif NUM3 < NUM1 and NUM3 < NUM2 :\n",
        "    print(f\"El tercer numero {NUM3} es MENOR a los demas\")\n",
        "\n",
        "print(\"FIN DEL PROGRAMA :3\") "
      ],
      "execution_count": 6,
      "outputs": [
        {
          "output_type": "stream",
          "name": "stdout",
          "text": [
            "Dame un primer numero entero: 15\n",
            "Dame un segundo numero entero: 11\n",
            "Dame un tercer numero entero: 12\n",
            "El segundo numero 11 es MENOR a los demas\n",
            "FIN DEL PROGRAMA :3\n"
          ]
        }
      ]
    },
    {
      "cell_type": "markdown",
      "metadata": {
        "id": "31gp7465rZj_"
      },
      "source": [
        "#3- Hacer un programa que solicite 4 numeros enteros diferentes entre si e imprima a la salida cual de ellos es el menor y cual de ellos es el mayor "
      ]
    },
    {
      "cell_type": "code",
      "metadata": {
        "colab": {
          "base_uri": "https://localhost:8080/"
        },
        "id": "2rLk72_ArZGn",
        "outputId": "2546c55a-b869-420d-9fac-4ba70d1c7820"
      },
      "source": [
        "NUM1 = int(input(\"Dame un primer numero entero: \"))\n",
        "NUM2 = int(input(\"Dame un segundo numero entero: \"))\n",
        "NUM3 = int(input(\"Dame un tercer numero entero: \"))\n",
        "NUM4 = int(input(\"Dame un cuarto numero entero: \"))\n",
        "if NUM1 > NUM2 and NUM1 > NUM3 and NUM1 > NUM4:\n",
        "    print(f\"El primer numero {NUM1} es MAYOR a los demas\")\n",
        "elif NUM2 > NUM1 and NUM2 > NUM3 and NUM2 > NUM4:\n",
        "    print(f\"El segundo numero {NUM2} es MAYOR a los demas\")\n",
        "elif NUM3 > NUM1 and NUM3 > NUM2 and NUM3 > NUM4:\n",
        "    print(f\"El tercer numero {NUM3} es MAYOR a los demas\")\n",
        "elif NUM4 > NUM1 and NUM4 > NUM2 and NUM4 > NUM3:\n",
        "    print(f\"El cuarto numero {NUM4} es MAYOR a los demas\")\n",
        "\n",
        "if NUM1 < NUM2 and NUM1 < NUM3 and NUM1 < NUM4:\n",
        "    print(f\"El primer numero {NUM1} es MENOR a los demas\")\n",
        "elif NUM2 < NUM1 and NUM2 < NUM3 and NUM2 < NUM4:\n",
        "    print(f\"El segundo numero {NUM2} es MENOR a los demas\")\n",
        "elif NUM3 < NUM1 and NUM3 < NUM2 and NUM3 < NUM4:\n",
        "    print(f\"El tercer numero {NUM3} es MENOR a los demas\")   \n",
        "elif NUM4 < NUM1 and NUM4 < NUM2 and NUM4 < NUM3:\n",
        "    print(f\"El cuarto numero {NUM4} es MENOR a los demas\")\n",
        "\n",
        "print(\"FIN DEL PROGRAMA :3\")      \n"
      ],
      "execution_count": 10,
      "outputs": [
        {
          "output_type": "stream",
          "name": "stdout",
          "text": [
            "Dame un primer numero entero: 21\n",
            "Dame un segundo numero entero: 20\n",
            "Dame un tercer numero entero: 19\n",
            "Dame un cuarto numero entero: 18\n",
            "El primer numero 21 es MAYOR a los demas\n",
            "El cuarto numero 18 es MENOR a los demas\n",
            "FIN DEL PROGRAMA :3\n"
          ]
        }
      ]
    }
  ]
}