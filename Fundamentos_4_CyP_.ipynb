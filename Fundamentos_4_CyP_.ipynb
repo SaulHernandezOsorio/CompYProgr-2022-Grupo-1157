{
  "nbformat": 4,
  "nbformat_minor": 0,
  "metadata": {
    "colab": {
      "name": "Fundamentos 4_CyP_.ipynb",
      "provenance": [],
      "authorship_tag": "ABX9TyPBOOFGrIELvflgkW4HxF7l",
      "include_colab_link": true
    },
    "kernelspec": {
      "name": "python3",
      "display_name": "Python 3"
    },
    "language_info": {
      "name": "python"
    }
  },
  "cells": [
    {
      "cell_type": "markdown",
      "metadata": {
        "id": "view-in-github",
        "colab_type": "text"
      },
      "source": [
        "<a href=\"https://colab.research.google.com/github/SaulHernandezOsorio/CompYProgr-2022-Grupo-1157/blob/main/Fundamentos_4_CyP_.ipynb\" target=\"_parent\"><img src=\"https://colab.research.google.com/assets/colab-badge.svg\" alt=\"Open In Colab\"/></a>"
      ]
    },
    {
      "cell_type": "markdown",
      "metadata": {
        "id": "U8BYuFrZj7Hd"
      },
      "source": [
        "# 2 DE DICIEMBRE DEL 2021"
      ]
    },
    {
      "cell_type": "markdown",
      "metadata": {
        "id": "Ocj7EnMrUKTS"
      },
      "source": [
        "# Modularidad (Funciones)\n",
        "\n",
        "Una función es una unidad de codigo reutilizable, ademas de ser un mecanismo para organizar código.\n",
        "\n",
        "La gran ventajad empkear funciones es simplificar la programación.\n",
        "\n",
        "### Estructura\n",
        "Una función puede tomar cualquier  cantidad de parametros de entrada (de cualquier tipo) y retornar unicamente un solo valor.\n",
        "\n",
        "Un parametro de entrada es un valor que recibe la función para realizar sus operaciones.\n",
        "\n",
        "Con una funcion se pueden hacer dos cosas:\n",
        "\n",
        "1. Definirlas\n",
        "2. Invocarla (ejecutarla)\n",
        "\n",
        "La gran ventaja de tener una funcion declarada , es que la podemos reutilizar cuando se desee"
      ]
    },
    {
      "cell_type": "code",
      "metadata": {
        "id": "9o8gc6PuUFHi"
      },
      "source": [
        "def sumar( op1 , op2 ):\n",
        "    res = op1 + op2\n",
        "    return res "
      ],
      "execution_count": 3,
      "outputs": []
    },
    {
      "cell_type": "code",
      "metadata": {
        "colab": {
          "base_uri": "https://localhost:8080/"
        },
        "id": "3EHMskD6YHzv",
        "outputId": "d19375ba-815d-4f79-a0ee-089d85c52024"
      },
      "source": [
        "res = sumar(2 , 5 )\n",
        "print(res)"
      ],
      "execution_count": 4,
      "outputs": [
        {
          "output_type": "stream",
          "name": "stdout",
          "text": [
            "7\n"
          ]
        }
      ]
    },
    {
      "cell_type": "code",
      "metadata": {
        "colab": {
          "base_uri": "https://localhost:8080/"
        },
        "id": "bYa_w6Z7aUNZ",
        "outputId": "7a342a43-fde6-465b-ace5-0f84fe6a3746"
      },
      "source": [
        "def imprime_cuadro():\n",
        "    print(\"****\")\n",
        "    print(\"****\")\n",
        "    print(\"****\")\n",
        "    print(\"****\")\n",
        "# el lenguaje hace un return none\n",
        "imprime_cuadro()\n"
      ],
      "execution_count": 6,
      "outputs": [
        {
          "output_type": "stream",
          "name": "stdout",
          "text": [
            "****\n",
            "****\n",
            "****\n",
            "****\n"
          ]
        }
      ]
    },
    {
      "cell_type": "markdown",
      "metadata": {
        "id": "NyDhHliTa6_A"
      },
      "source": [
        "# Valor de retorno de una función\n",
        "\n",
        "Regla de oro: Una función siempre reotrna un solo valor. Inclusive si ese valor es el vacío."
      ]
    },
    {
      "cell_type": "code",
      "metadata": {
        "colab": {
          "base_uri": "https://localhost:8080/"
        },
        "id": "0IR1eObsbOBS",
        "outputId": "0962c102-3dc8-48f5-993a-83e10ce14cc2"
      },
      "source": [
        "# invocar sumar \n",
        "res = sumar(7 , 7)\n",
        "print(res)\n",
        "# invocar la función pintar cuadro\n",
        "res = imprime_cuadro()\n",
        "print(res)"
      ],
      "execution_count": 7,
      "outputs": [
        {
          "output_type": "stream",
          "name": "stdout",
          "text": [
            "14\n",
            "****\n",
            "****\n",
            "****\n",
            "****\n",
            "None\n"
          ]
        }
      ]
    },
    {
      "cell_type": "markdown",
      "metadata": {
        "id": "LLoYzOpkdJ0-"
      },
      "source": [
        "# La palabra reservad none en Python \n",
        "\n",
        "Esta palabra significa vacío, equivale a la palabra reservada void del lenguaje C, C++ y Java.\n",
        "\n",
        "Se usa para indicar ya sea un return vacio o que se recibe como parámetro un vacío."
      ]
    },
    {
      "cell_type": "code",
      "metadata": {
        "id": "enLBweNfd7KC"
      },
      "source": [
        "def multiplicar( valor , veces ):\n",
        "     if valor == None:\n",
        "         c=-1\n",
        "     else:\n",
        "         c = valor * veces    \n",
        "     return c"
      ],
      "execution_count": 14,
      "outputs": []
    },
    {
      "cell_type": "code",
      "metadata": {
        "colab": {
          "base_uri": "https://localhost:8080/"
        },
        "id": "sLoQ2PUveNi1",
        "outputId": "d8ca7964-013b-485a-c206-8199e060ec46"
      },
      "source": [
        "res = multiplicar( None , 5)\n",
        "print(res)"
      ],
      "execution_count": 15,
      "outputs": [
        {
          "output_type": "stream",
          "name": "stdout",
          "text": [
            "-1\n"
          ]
        }
      ]
    },
    {
      "cell_type": "markdown",
      "metadata": {
        "id": "BPr6kzhxfiX9"
      },
      "source": [
        "# Parametros y argumentos\n",
        "Son conceptos relacionados y su diferencia esta centrada en el momento que se emplea en una función.\n",
        "\n",
        "Es decir en la función sumar de arriva, cuando se declara se le llama parametro y cuando se invoca se llama argumento"
      ]
    },
    {
      "cell_type": "markdown",
      "metadata": {
        "id": "sA79E7Uyfenr"
      },
      "source": [
        "# Parametros posicionales\n",
        "\n",
        "En python es posible determinar a que parametros estan dirigidos los argumentos , segun su posición.\n",
        "\n",
        "\n"
      ]
    },
    {
      "cell_type": "code",
      "metadata": {
        "id": "ScfgzlIhgqjW"
      },
      "source": [
        "def dividir( op1 , op2 ):\n",
        "    c = op1 / op2\n",
        "    return c"
      ],
      "execution_count": 16,
      "outputs": []
    },
    {
      "cell_type": "code",
      "metadata": {
        "colab": {
          "base_uri": "https://localhost:8080/"
        },
        "id": "XoM2vw6vg2zI",
        "outputId": "46d9bf8c-9cfc-43f4-f57f-b92747d07dbb"
      },
      "source": [
        "num1 = 25\n",
        "num2 = 5\n",
        "res = dividir( num1 , num2 )\n",
        "print(res)\n",
        "res = dividir( num2 , num1 )\n",
        "print(res)"
      ],
      "execution_count": 18,
      "outputs": [
        {
          "output_type": "stream",
          "name": "stdout",
          "text": [
            "5.0\n",
            "0.2\n"
          ]
        }
      ]
    },
    {
      "cell_type": "markdown",
      "metadata": {
        "id": "Rsn3t151hT2p"
      },
      "source": [
        "# Argumentos con palabras clave (keywords)\n",
        "\n",
        "Es la posibilidad de indicarle a  la función en tiempo de ejecución a que parametro va dirigido un argumento de entrada.\n",
        "\n",
        "Solo en python\n",
        "\n"
      ]
    },
    {
      "cell_type": "code",
      "metadata": {
        "id": "4vSU3v6qhxqk"
      },
      "source": [
        "res = dividir( op2=num2 , op1=num1 )\n",
        "print( res )"
      ],
      "execution_count": null,
      "outputs": []
    }
  ]
}