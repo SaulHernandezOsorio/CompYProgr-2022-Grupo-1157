{
  "nbformat": 4,
  "nbformat_minor": 0,
  "metadata": {
    "colab": {
      "name": "Fundamentos3_CyP_1157.ipynb",
      "provenance": [],
      "authorship_tag": "ABX9TyNg5q3scscdKXdc5T+RVI/Y",
      "include_colab_link": true
    },
    "kernelspec": {
      "name": "python3",
      "display_name": "Python 3"
    },
    "language_info": {
      "name": "python"
    }
  },
  "cells": [
    {
      "cell_type": "markdown",
      "metadata": {
        "id": "view-in-github",
        "colab_type": "text"
      },
      "source": [
        "<a href=\"https://colab.research.google.com/github/SaulHernandezOsorio/CompYProgr-2022-Grupo-1157/blob/main/Fundamentos3_CyP_1157/30-nov-21.ipynb\" target=\"_parent\"><img src=\"https://colab.research.google.com/assets/colab-badge.svg\" alt=\"Open In Colab\"/></a>"
      ]
    },
    {
      "cell_type": "markdown",
      "metadata": {
        "id": "9VutUAQoNXRo"
      },
      "source": [
        "# 23 DE NOVIEMBRE DEL 2021"
      ]
    },
    {
      "cell_type": "markdown",
      "metadata": {
        "id": "AFRSjBv3Fiti"
      },
      "source": [
        " Repetición\n",
        "   - Este tipo de estructura nos permite automatizar la ejecución repetitiva de codigo mientras ciertas condiciones se cumplan, tenemos 3 variantes de esta estructura en todos los lenguajes de programación:\n",
        "      - Desde... hasta (estructura for)\n",
        "      - Haz mientras (estrucutura While)\n",
        "      - Haz y luego validaz mientras (estructura Do-While)\n",
        "\n",
        "# FOR CON Python\n",
        "\n",
        "```\n",
        "for j un range(10):\n",
        "    print(f\"Hola { j }\") \n",
        "```\n",
        "\n",
        "# FOR CON Leng C Y/O Java\n",
        "```\n",
        "for(int j=0 ; j<10 ;  j=j+1 ) {\n",
        "    printf(\"Hola %i /n\" , j);\n",
        "}\n",
        "```  \n",
        "\n",
        "En todos los lenguajes de programación existe un tipo especial de for, conocido como **for-each**\n",
        "\n",
        "# For-each Python \n",
        "```\n",
        "for color in colores: \n",
        "    print(f\"Este es el color { color }\n",
        "\")\n",
        "```    "
      ]
    },
    {
      "cell_type": "code",
      "metadata": {
        "colab": {
          "base_uri": "https://localhost:8080/"
        },
        "id": "X5JsTY8TFQwg",
        "outputId": "dff4d9af-b386-49c3-aa55-f37f3cc22fe0"
      },
      "source": [
        "# función range()\n",
        "# range  (<INICIO>,<STOP>,<INCREMENTO>)\n",
        "x = range(0,10,2)\n",
        "print(x)\n",
        "\n",
        "for j in range(10): # range(0,10) --> 0,1,2,3,4,5,6,7,8,9\n",
        "    print(f\"Hola {j}\")\n",
        "print(\"-------------------\")\n",
        "for j in range(0,10,2): # range(0,10) --> 0,2,4,6,8,\n",
        "    print(f\"Hola {j}\")\n",
        "print(\"-------------------\")\n",
        "frutas =[\"uva\",\"aguacate\",\"pera\",\"manzana\",\"sandia\"]\n",
        "\n",
        "print(frutas[0])\n",
        "print(frutas[1])\n",
        "print(frutas[2])\n",
        "print(frutas[3])\n",
        "print(frutas[4])\n",
        "print(\"-------------------\")\n",
        "for index in range(5):\n",
        "    print(frutas[index])\n",
        "\n",
        "print(\"-------------------\")\n",
        "\n",
        "for i in range(5):\n",
        "    print(\"+++++\")"
      ],
      "execution_count": null,
      "outputs": [
        {
          "output_type": "stream",
          "name": "stdout",
          "text": [
            "range(0, 10, 2)\n",
            "Hola 0\n",
            "Hola 1\n",
            "Hola 2\n",
            "Hola 3\n",
            "Hola 4\n",
            "Hola 5\n",
            "Hola 6\n",
            "Hola 7\n",
            "Hola 8\n",
            "Hola 9\n",
            "-------------------\n",
            "Hola 0\n",
            "Hola 2\n",
            "Hola 4\n",
            "Hola 6\n",
            "Hola 8\n",
            "-------------------\n",
            "uva\n",
            "aguacate\n",
            "pera\n",
            "manzana\n",
            "sandia\n",
            "-------------------\n",
            "uva\n",
            "aguacate\n",
            "pera\n",
            "manzana\n",
            "sandia\n",
            "-------------------\n",
            "+++++\n",
            "+++++\n",
            "+++++\n",
            "+++++\n",
            "+++++\n"
          ]
        }
      ]
    },
    {
      "cell_type": "markdown",
      "metadata": {
        "id": "wSW7ihHCNcGa"
      },
      "source": [
        "# 30 DE NOVIEMBRE DEL 2021"
      ]
    },
    {
      "cell_type": "markdown",
      "metadata": {
        "id": "0BOfAm_qLU0N"
      },
      "source": [
        "Estrutctura de control de repetición HAZ - mientras.\n",
        "\n",
        "Una estructura de control haz - mientras nos permite ejecutar rapidamente una condición se siga cumpliendo\n",
        "\n",
        "#SINTAXIS\n",
        "```\n",
        "while<condición>:\n",
        "    <bloque de sentencias a ejecutar repetidamente>\n",
        "<siguiente sentencia posterior a while>\n",
        "```\n",
        "La diferencia principal en comparación con la estructura for es que con WHILE no conoces el número de ciclos a ejecutar, en for si se conoce.\n",
        "\n",
        "Como ejemplo iniciemos con el siguiente enunciado:\n",
        "\n",
        "Hacer un programa que solicite un valor entero positivo y calcule repetidamente la mitad y se reasigne a la misma variable, El ciclo se debe de detener cuando el resultado sea menor que 1.\n",
        "Mostrar en pantalla el resultado de cada calculo y al final el numero de iteraciones que realizo.\n",
        "```\n",
        "Introduce un numero entero positivo: 17\n",
        "8.5\n",
        "4.25\n",
        "2.12\n",
        "1.06\n",
        "0.53\n",
        "Total de iteraciones = 5\n",
        "```\n"
      ]
    },
    {
      "cell_type": "code",
      "metadata": {
        "colab": {
          "base_uri": "https://localhost:8080/"
        },
        "id": "RpEdyE1t7yTe",
        "outputId": "a53cf1a4-54c6-4352-eb98-011c887e65c2"
      },
      "source": [
        "valor = int(input(\"Dame un numero entero positivo: \"))\n",
        "contador = 0\n",
        "if valor > 1.0 :\n",
        "    while valor > 1.0 :\n",
        "        valor = valor / 2\n",
        "        print( round(valor,2) )\n",
        "        contador += 1\n",
        "else:\n",
        "    print(\"El numero es negativo, intenta de nuevo\")\n",
        "print(\"Total de iteraciones: \", contador)            "
      ],
      "execution_count": 3,
      "outputs": [
        {
          "output_type": "stream",
          "name": "stdout",
          "text": [
            "Dame un numero entero positivo: 5768\n",
            "2884.0\n",
            "1442.0\n",
            "721.0\n",
            "360.5\n",
            "180.25\n",
            "90.12\n",
            "45.06\n",
            "22.53\n",
            "11.27\n",
            "5.63\n",
            "2.82\n",
            "1.41\n",
            "0.7\n",
            "Total de iteraciones:  13\n"
          ]
        }
      ]
    },
    {
      "cell_type": "code",
      "metadata": {
        "colab": {
          "base_uri": "https://localhost:8080/"
        },
        "id": "Pwzpdc_Q8tCg",
        "outputId": "0dbc209d-9038-4bdf-808e-e8923629f170"
      },
      "source": [
        "valor = int(input(\"Dame un numero entero: \"))\n",
        "\n",
        "while valor != 0:\n",
        "    print(valor)\n",
        "    valor = int(input(\"Dame un numero entero: \"))\n",
        "\n"
      ],
      "execution_count": null,
      "outputs": [
        {
          "output_type": "stream",
          "name": "stdout",
          "text": [
            "Dame un numero entero: 1\n",
            "1\n"
          ]
        }
      ]
    },
    {
      "cell_type": "markdown",
      "metadata": {
        "id": "FJY6fDSm_rAH"
      },
      "source": [
        "# Escribe un programa qe permita genera la tabla de multiplicar de un numero entero positivo N, comenzando desde 1"
      ]
    },
    {
      "cell_type": "code",
      "metadata": {
        "colab": {
          "base_uri": "https://localhost:8080/"
        },
        "id": "G31v--L3_0q5",
        "outputId": "0e107102-186e-40cd-bb22-e405c06d0e6b"
      },
      "source": [
        "n = int(input(\"Dame un numero entero positivo: \"))\n",
        "\n",
        "if n > 0:\n",
        "    print(\"CORRECTO\")\n",
        "\n",
        "    for i in range (1,11):\n",
        "        print(n, \"por\", i+1, \"es igual a: \", n*(i+1) )\n",
        "\n",
        "else:\n",
        "    print(\"El numero ingresado es NEGATIVO, vuelve a intentar\")"
      ],
      "execution_count": 11,
      "outputs": [
        {
          "output_type": "stream",
          "name": "stdout",
          "text": [
            "Dame un numero entero positivo: -2\n",
            "El numero ingresado es INCORRECTO\n"
          ]
        }
      ]
    },
    {
      "cell_type": "code",
      "metadata": {
        "colab": {
          "base_uri": "https://localhost:8080/"
        },
        "id": "OXb-xVhoCGf0",
        "outputId": "006156ae-5a71-4420-9e06-98de5010c7ee"
      },
      "source": [
        "comprobar = True\n",
        "\n",
        "while comprobar == True:\n",
        "\n",
        "    n = int(input(\"Dame un numero entero positivo: \"))\n",
        "\n",
        "    if n > 0:\n",
        "     \n",
        "     i=1 # Se inicia el valor en 1\n",
        "\n",
        "     while i < 11:\n",
        "         print(n, \"por\", i ,\"es igual a: \", n*i)\n",
        "\n",
        "         i += 1\n",
        "\n",
        "         comprobar = False\n",
        "\n",
        "    else:\n",
        "      print(\"El numero ingresado no es correcto, vuelve a intentar\")"
      ],
      "execution_count": 21,
      "outputs": [
        {
          "output_type": "stream",
          "name": "stdout",
          "text": [
            "Dame un numero entero positivo: -8\n",
            "El numero ingresado no es correcto, vuelve a intentar\n",
            "Dame un numero entero positivo: 5\n",
            "5 por 1 es igual a:  5\n",
            "5 por 2 es igual a:  10\n",
            "5 por 3 es igual a:  15\n",
            "5 por 4 es igual a:  20\n",
            "5 por 5 es igual a:  25\n",
            "5 por 6 es igual a:  30\n",
            "5 por 7 es igual a:  35\n",
            "5 por 8 es igual a:  40\n",
            "5 por 9 es igual a:  45\n",
            "5 por 10 es igual a:  50\n"
          ]
        }
      ]
    },
    {
      "cell_type": "markdown",
      "metadata": {
        "id": "gntsR94UKaYe"
      },
      "source": [
        "Escribe un prohrama que al recibir como dato un numero entero positivo N , calcule el resultado de la siguiente serie\n",
        "1+(1/2)+(1/3)+...+(1/N)"
      ]
    },
    {
      "cell_type": "code",
      "metadata": {
        "colab": {
          "base_uri": "https://localhost:8080/"
        },
        "id": "SprwEqshKpsA",
        "outputId": "37ac2659-8662-4a30-d266-1a6d73c3b22a"
      },
      "source": [
        "n = int(input(\"Dame un numero entero positivo\"))\n",
        "\n",
        "if n > 0:\n",
        "    resultado=0\n",
        "\n",
        "    for i in range (1, n+1):\n",
        "        resultado += (1/i)\n",
        "\n",
        "        print(\"El resultado de la serie es:\", resultado)\n",
        "\n",
        "else:\n",
        "    print(\"El numer ingresado no es correcto, vuelve a intentarlo\")"
      ],
      "execution_count": 24,
      "outputs": [
        {
          "output_type": "stream",
          "name": "stdout",
          "text": [
            "Dame un numero entero positivo8\n",
            "El resultado de la serie es: 1.0\n",
            "El resultado de la serie es: 1.5\n",
            "El resultado de la serie es: 1.8333333333333333\n",
            "El resultado de la serie es: 2.083333333333333\n",
            "El resultado de la serie es: 2.283333333333333\n",
            "El resultado de la serie es: 2.4499999999999997\n",
            "El resultado de la serie es: 2.5928571428571425\n",
            "El resultado de la serie es: 2.7178571428571425\n"
          ]
        }
      ]
    },
    {
      "cell_type": "code",
      "metadata": {
        "colab": {
          "base_uri": "https://localhost:8080/"
        },
        "id": "D0vEYPM5MVt4",
        "outputId": "0f7c3c1f-924a-46ab-b83b-7212766bc219"
      },
      "source": [
        "comprobar = True\n",
        "\n",
        "while comprobar == True:\n",
        "\n",
        "    n = int(input(\"Dame un numero entero positivo: \"))\n",
        "\n",
        "    if n > 0:\n",
        "\n",
        "     comprobar = False\n",
        "\n",
        "    resultado=0\n",
        "\n",
        "    for i in range (1, n+1):\n",
        "        resultado += (1/i)\n",
        "\n",
        "        print(\"El resultado de la serie es:\", resultado)\n",
        "\n",
        "    else:\n",
        "        print(\"El numero ingresado no es correcto, vuelve a intentarlo\")"
      ],
      "execution_count": 29,
      "outputs": [
        {
          "output_type": "stream",
          "name": "stdout",
          "text": [
            "Dame un numero entero positivo: 5\n",
            "El resultado de la serie es: 1.0\n",
            "El resultado de la serie es: 1.5\n",
            "El resultado de la serie es: 1.8333333333333333\n",
            "El resultado de la serie es: 2.083333333333333\n",
            "El resultado de la serie es: 2.283333333333333\n",
            "El numero ingresado no es correcto, vuelve a intentarlo\n"
          ]
        }
      ]
    },
    {
      "cell_type": "code",
      "metadata": {
        "id": "YDFy0CK2N90p"
      },
      "source": [
        ""
      ],
      "execution_count": null,
      "outputs": []
    }
  ]
}