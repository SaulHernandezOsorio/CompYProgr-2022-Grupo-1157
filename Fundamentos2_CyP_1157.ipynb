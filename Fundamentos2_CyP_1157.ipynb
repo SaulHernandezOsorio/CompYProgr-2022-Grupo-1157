{
  "nbformat": 4,
  "nbformat_minor": 0,
  "metadata": {
    "colab": {
      "name": "Fundamentos2_CyP_1157.ipynb",
      "provenance": [],
      "authorship_tag": "ABX9TyNChIsrMMZR59soiBlPU08m",
      "include_colab_link": true
    },
    "kernelspec": {
      "name": "python3",
      "display_name": "Python 3"
    },
    "language_info": {
      "name": "python"
    }
  },
  "cells": [
    {
      "cell_type": "markdown",
      "metadata": {
        "id": "view-in-github",
        "colab_type": "text"
      },
      "source": [
        "<a href=\"https://colab.research.google.com/github/SaulHernandezOsorio/CompYProgr-2022-Grupo-1157/blob/main/Fundamentos2_CyP_1157.ipynb\" target=\"_parent\"><img src=\"https://colab.research.google.com/assets/colab-badge.svg\" alt=\"Open In Colab\"/></a>"
      ]
    },
    {
      "cell_type": "markdown",
      "metadata": {
        "id": "InR0n46UYxLn"
      },
      "source": [
        "### 4 DE NOVIEMBRE DEL 2021"
      ]
    },
    {
      "cell_type": "markdown",
      "metadata": {
        "id": "x7cQ6sVEFmvP"
      },
      "source": [
        "\n",
        "# Tipos de datos estructurados de python\n",
        "\n",
        "1. Listas\n",
        "2. Tuplas\n",
        "3. Diccionarios\n",
        "4. Conjuntos(opcional)\n",
        "\n"
      ]
    },
    {
      "cell_type": "markdown",
      "metadata": {
        "id": "vzV2CHkgFzsy"
      },
      "source": [
        "# Listas\n",
        "- Tipo de dato que agrupa variables o valores.\n",
        "- Se declara de dos formas#\n",
        "     - usando [ ]\n",
        "     - usando list()\n",
        "     - usando un generador\n",
        "- Puede contener tipos de dato diversos ( En otros lenguajes de prog. eso no es posible de forma directa )\n",
        "- Los elementos internos se seleccionan con [ ]\n",
        "- Soporta Slicing\n",
        "- Son MUTABLES\n",
        "- GENERADORES [var for x in range( 10 )]  \n",
        "- Al ser una clase contiene muchos metodos utiles     "
      ]
    },
    {
      "cell_type": "code",
      "metadata": {
        "colab": {
          "base_uri": "https://localhost:8080/"
        },
        "id": "5CpYomPoFbF7",
        "outputId": "780f3a15-311f-400e-f7f2-c8bdc8f98e04"
      },
      "source": [
        "numeros = [10, 5,2, 3, 1]\n",
        "print(numeros)\n",
        "\n",
        "numeros2 = list()\n",
        "numeros2.append(10)\n",
        "numeros2.append(5)\n",
        "numeros2.append(2)\n",
        "numeros2.append(3)\n",
        "numeros2.append(1)\n",
        "print(numeros2)\n",
        "numeros[2] = 20\n",
        "print(numeros)\n",
        "numeros[ -1 ] = 33\n",
        "print(numeros)"
      ],
      "execution_count": 23,
      "outputs": [
        {
          "output_type": "stream",
          "name": "stdout",
          "text": [
            "[10, 5, 2, 3, 1]\n",
            "[10, 5, 2, 3, 1]\n",
            "[10, 5, 20, 3, 1]\n",
            "[10, 5, 20, 3, 33]\n"
          ]
        }
      ]
    },
    {
      "cell_type": "code",
      "metadata": {
        "colab": {
          "base_uri": "https://localhost:8080/"
        },
        "id": "KXG_uE_gIrgo",
        "outputId": "e1d75fea-ddf5-459c-dc69-a399bdf26b2a"
      },
      "source": [
        "\n",
        "# tipos diversos\n",
        "\n",
        "cosas = [12, 2, True , \"Saúl\" , 1.70 , [\"pera\" , \"Kiwi\" , \"uva\" ] ]\n",
        "print(cosas)\n",
        "print( cosas[1] )\n",
        "print( cosas[4] )\n",
        "print( cosas[5] )\n",
        "print( cosas[5][0] )\n",
        "print( cosas[3][1:3] )\n",
        "cosas[3] = cosas[3].upper()\n",
        "print(cosas)"
      ],
      "execution_count": 24,
      "outputs": [
        {
          "output_type": "stream",
          "name": "stdout",
          "text": [
            "[12, 2, True, 'Saúl', 1.7, ['pera', 'Kiwi', 'uva']]\n",
            "2\n",
            "1.7\n",
            "['pera', 'Kiwi', 'uva']\n",
            "pera\n",
            "aú\n",
            "[12, 2, True, 'SAÚL', 1.7, ['pera', 'Kiwi', 'uva']]\n"
          ]
        }
      ]
    },
    {
      "cell_type": "code",
      "metadata": {
        "colab": {
          "base_uri": "https://localhost:8080/"
        },
        "id": "oMuLw__8L46X",
        "outputId": "520046dc-59ba-44fd-f205-dc96610df48d"
      },
      "source": [
        "numeros = [1,2,3,4,5,6,7,8,9,10,11]\n",
        "print(numeros)\n",
        "# slicing\n",
        "# 1. 4 al 8\n",
        "print( numeros[3:8])\n",
        "# 2: [9,10]\n",
        "print( numeros[8:10])\n",
        "print( numeros[-3:-1])\n",
        "# 3. Primero el orden debera ser inverso [11,10,9,8,...]\n",
        "print(numeros[::-1])"
      ],
      "execution_count": 29,
      "outputs": [
        {
          "output_type": "stream",
          "name": "stdout",
          "text": [
            "[1, 2, 3, 4, 5, 6, 7, 8, 9, 10, 11]\n",
            "[4, 5, 6, 7, 8]\n",
            "[9, 10]\n",
            "[9, 10]\n",
            "[11, 10, 9, 8, 7, 6, 5, 4, 3, 2, 1]\n"
          ]
        }
      ]
    },
    {
      "cell_type": "code",
      "metadata": {
        "colab": {
          "base_uri": "https://localhost:8080/"
        },
        "id": "XQwH7-VmPoBk",
        "outputId": "e7248d2d-c6c0-4f60-dbb8-eab648416a35"
      },
      "source": [
        "#Crear una lsita con un generador\n",
        "numeros = [ x for x in range(101) ]\n",
        "print(numeros)"
      ],
      "execution_count": 30,
      "outputs": [
        {
          "output_type": "stream",
          "name": "stdout",
          "text": [
            "[0, 1, 2, 3, 4, 5, 6, 7, 8, 9, 10, 11, 12, 13, 14, 15, 16, 17, 18, 19, 20, 21, 22, 23, 24, 25, 26, 27, 28, 29, 30, 31, 32, 33, 34, 35, 36, 37, 38, 39, 40, 41, 42, 43, 44, 45, 46, 47, 48, 49, 50, 51, 52, 53, 54, 55, 56, 57, 58, 59, 60, 61, 62, 63, 64, 65, 66, 67, 68, 69, 70, 71, 72, 73, 74, 75, 76, 77, 78, 79, 80, 81, 82, 83, 84, 85, 86, 87, 88, 89, 90, 91, 92, 93, 94, 95, 96, 97, 98, 99, 100]\n"
          ]
        }
      ]
    },
    {
      "cell_type": "markdown",
      "metadata": {
        "id": "9phLrxMzQXGd"
      },
      "source": [
        "# función range()\n",
        "\n",
        "Tiene los mismos componentes que slicing\n",
        "\n",
        "ini , stop , incremento\n",
        "\n",
        "range(1, 101 , 1)\n",
        "\n"
      ]
    },
    {
      "cell_type": "code",
      "metadata": {
        "colab": {
          "base_uri": "https://localhost:8080/"
        },
        "id": "0XXXnsI2QsIm",
        "outputId": "9ba904a1-19d9-494d-d8a1-a373ddc0e8eb"
      },
      "source": [
        "numeros = [ x for x in range(50, 101) ]\n",
        "print(numeros)"
      ],
      "execution_count": 31,
      "outputs": [
        {
          "output_type": "stream",
          "name": "stdout",
          "text": [
            "[50, 51, 52, 53, 54, 55, 56, 57, 58, 59, 60, 61, 62, 63, 64, 65, 66, 67, 68, 69, 70, 71, 72, 73, 74, 75, 76, 77, 78, 79, 80, 81, 82, 83, 84, 85, 86, 87, 88, 89, 90, 91, 92, 93, 94, 95, 96, 97, 98, 99, 100]\n"
          ]
        }
      ]
    },
    {
      "cell_type": "markdown",
      "metadata": {
        "id": "p9MLj8RpROAY"
      },
      "source": [
        "# Metodos disponibles de las Listas\n"
      ]
    },
    {
      "cell_type": "code",
      "metadata": {
        "colab": {
          "base_uri": "https://localhost:8080/"
        },
        "id": "zkuqCfsTRQ3g",
        "outputId": "5906d405-0fa1-48e1-d50b-eeda294c1cce"
      },
      "source": [
        "dir(list)"
      ],
      "execution_count": 32,
      "outputs": [
        {
          "output_type": "execute_result",
          "data": {
            "text/plain": [
              "['__add__',\n",
              " '__class__',\n",
              " '__contains__',\n",
              " '__delattr__',\n",
              " '__delitem__',\n",
              " '__dir__',\n",
              " '__doc__',\n",
              " '__eq__',\n",
              " '__format__',\n",
              " '__ge__',\n",
              " '__getattribute__',\n",
              " '__getitem__',\n",
              " '__gt__',\n",
              " '__hash__',\n",
              " '__iadd__',\n",
              " '__imul__',\n",
              " '__init__',\n",
              " '__init_subclass__',\n",
              " '__iter__',\n",
              " '__le__',\n",
              " '__len__',\n",
              " '__lt__',\n",
              " '__mul__',\n",
              " '__ne__',\n",
              " '__new__',\n",
              " '__reduce__',\n",
              " '__reduce_ex__',\n",
              " '__repr__',\n",
              " '__reversed__',\n",
              " '__rmul__',\n",
              " '__setattr__',\n",
              " '__setitem__',\n",
              " '__sizeof__',\n",
              " '__str__',\n",
              " '__subclasshook__',\n",
              " 'append',\n",
              " 'clear',\n",
              " 'copy',\n",
              " 'count',\n",
              " 'extend',\n",
              " 'index',\n",
              " 'insert',\n",
              " 'pop',\n",
              " 'remove',\n",
              " 'reverse',\n",
              " 'sort']"
            ]
          },
          "metadata": {},
          "execution_count": 32
        }
      ]
    },
    {
      "cell_type": "code",
      "metadata": {
        "colab": {
          "base_uri": "https://localhost:8080/"
        },
        "id": "Ii5g_CyUSZn2",
        "outputId": "233bd82f-1192-45df-f296-60418a7e66bf"
      },
      "source": [
        "numeros = [ 4,1,15,8,22,34,50,15 ]\n",
        "print(numeros)\n",
        "numeros.append( 99)\n",
        "print(numeros)\n",
        "\n",
        "#numeros.clear()\n",
        "#numeros = []\n",
        "print(numeros)\n",
        "\n",
        "frutas = [\"uvas\" , \"kiwi\" , \"manzana\" ]\n",
        "copia = frutas\n",
        "print( frutas )\n",
        "print( copia )\n",
        "frutas.append(\"Naranja\")\n",
        "print( frutas )\n",
        "print( copia )\n",
        "\n",
        "\n",
        "colores = [\"rojo\" , \"azul\" , \"blanco\"]\n",
        "copia2 = colores.copy()\n",
        "print(colores)\n",
        "\n",
        "print(copia2)\n",
        "\n",
        "colores.append(\"Verde\")\n",
        "print(colores)\n",
        "\n",
        "print(copia2)\n",
        "\n",
        "print(\"Numero de veces que aparece el 15 es: \" , numeros.count(15) )\n",
        "\n",
        "# Extend \n",
        "nombres = [\"jose\" , \"pedro\" , \"karina\"]\n",
        "otrosNombres = [\"josue\" , \"diana\" , \"dalia\"] \n",
        "\n",
        "print(nombres)\n",
        "print(otrosNombres)\n",
        "nombres = nombres + otrosNombres\n",
        "print(nombres)\n",
        "print(otrosNombres)\n",
        "\n",
        "# Lo mismo con el método extend\n",
        "otrosNombres.extend( [\"Jesus\" , \"María\" , \"Jose\"])\n",
        "print(otrosNombres)\n",
        "\n",
        "print(\"Jesus esta en la posición:\" , otrosNombres.index(\"Jesus\") )\n",
        "\n",
        "otrosNombres.insert(4,\"Espiritu santo\")\n",
        "print(otrosNombres)\n",
        "\n",
        "# Pop \n",
        "resultado = otrosNombres.pop()\n",
        "print(otrosNombres)\n",
        "print(resultado)\n"
      ],
      "execution_count": 48,
      "outputs": [
        {
          "output_type": "stream",
          "name": "stdout",
          "text": [
            "[4, 1, 15, 8, 22, 34, 50, 15]\n",
            "[4, 1, 15, 8, 22, 34, 50, 15, 99]\n",
            "[4, 1, 15, 8, 22, 34, 50, 15, 99]\n",
            "['uvas', 'kiwi', 'manzana']\n",
            "['uvas', 'kiwi', 'manzana']\n",
            "['uvas', 'kiwi', 'manzana', 'Naranja']\n",
            "['uvas', 'kiwi', 'manzana', 'Naranja']\n",
            "['rojo', 'azul', 'blanco']\n",
            "['rojo', 'azul', 'blanco']\n",
            "['rojo', 'azul', 'blanco', 'Verde']\n",
            "['rojo', 'azul', 'blanco']\n",
            "Numero de veces que aparece el 15 es:  2\n",
            "['jose', 'pedro', 'karina']\n",
            "['josue', 'diana', 'dalia']\n",
            "['jose', 'pedro', 'karina', 'josue', 'diana', 'dalia']\n",
            "['josue', 'diana', 'dalia']\n",
            "['josue', 'diana', 'dalia', 'Jesus', 'María', 'Jose']\n",
            "Jesus esta en la posición: 3\n",
            "['josue', 'diana', 'dalia', 'Jesus', 'Espiritu santo', 'María', 'Jose']\n",
            "['josue', 'diana', 'dalia', 'Jesus', 'Espiritu santo', 'María']\n",
            "Jose\n"
          ]
        }
      ]
    }
  ]
}