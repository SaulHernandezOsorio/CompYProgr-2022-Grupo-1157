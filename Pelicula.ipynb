{
  "nbformat": 4,
  "nbformat_minor": 0,
  "metadata": {
    "colab": {
      "name": "Pelicula.ipynb",
      "provenance": [],
      "authorship_tag": "ABX9TyPtIhnHYgjeNVtyl8CQOsvs",
      "include_colab_link": true
    },
    "kernelspec": {
      "name": "python3",
      "display_name": "Python 3"
    },
    "language_info": {
      "name": "python"
    }
  },
  "cells": [
    {
      "cell_type": "markdown",
      "metadata": {
        "id": "view-in-github",
        "colab_type": "text"
      },
      "source": [
        "<a href=\"https://colab.research.google.com/github/SaulHernandezOsorio/CompYProgr-2022-Grupo-1157/blob/main/Pelicula.ipynb\" target=\"_parent\"><img src=\"https://colab.research.google.com/assets/colab-badge.svg\" alt=\"Open In Colab\"/></a>"
      ]
    },
    {
      "cell_type": "code",
      "metadata": {
        "colab": {
          "base_uri": "https://localhost:8080/"
        },
        "id": "XWEW6Jl4Kt6C",
        "outputId": "526cdee5-78c4-455b-b388-14d44940662e"
      },
      "source": [
        "pelicula = { \"titulo\" : \"Avengers\" ,\n",
        "            \"Estreno\" :{\n",
        "                \"dia\" : \"18\" ,\n",
        "                \"mes\" : \"Septiembre\" ,\n",
        "                \"año\" : \"2010\"\n",
        "            } ,\n",
        "            \"Reparto\" : {\n",
        "                \"thor\":\"Chris Hemsworth\",\n",
        "                \"iron man\" : \"Robert Downey Jr.\" ,\n",
        "                \"hulk\" : \"Marck Ruffallo\",\n",
        "                \"black widow\" : \"Scarlett Johansson\",\n",
        "                \"capitan america\" : \"Chris Evans\"\n",
        "\n",
        "            },\n",
        "            \"Dirección\":{\n",
        "                \"directores\" :\"Joe Russo, Anthony Russo, Joss Whedon, Cate Shortland\",\n",
        "                \"sonido\" :\"Alan Anthony Silvestri\",\n",
        "                \"fotografia\" :\"Trent Opaloch\"\n",
        "            },\n",
        "            \"Informacion\":{\n",
        "                \"sinopsis\": \"Un enemigo inesperado amenaza con poner en peligro la seguridad mundial, así que Nick Fury, Director de la agencia internacional para el mantenimiento de la paz conocida con el nombre de SHIELD, necesita encontrar urgentemente un equipo que salve al mundo del mayor de los desastres.\"\n",
        "            },\n",
        "            \"Ganancias\" :{\n",
        "                \"estreno\" : \"800 millones\",\n",
        "                \"totales\" : \"1509 millones\"\n",
        "            }\n",
        "              \n",
        "            \n",
        "    \n",
        "}\n",
        "\n",
        "print( pelicula)"
      ],
      "execution_count": 3,
      "outputs": [
        {
          "output_type": "stream",
          "name": "stdout",
          "text": [
            "{'titulo': 'Avengers', 'Estreno': {'dia': '18', 'mes': 'Septiembre', 'año': '2010'}, 'Reparto': {'thor': 'Chris Hemsworth', 'iron man': 'Robert Downey Jr.', 'hulk': 'Marck Ruffallo', 'black widow': 'Scarlett Johansson', 'capitan america': 'Chris Evans'}, 'Dirección': {'directores': 'Joe Russo, Anthony Russo, Joss Whedon, Cate Shortland', 'sonido': 'Alan Anthony Silvestri', 'fotografia': 'Trent Opaloch'}, 'Informacion': {'sinopsis': 'Un enemigo inesperado amenaza con poner en peligro la seguridad mundial, así que Nick Fury, Director de la agencia internacional para el mantenimiento de la paz conocida con el nombre de SHIELD, necesita encontrar urgentemente un equipo que salve al mundo del mayor de los desastres.'}, 'Ganancias': {'estreno': '800 millones', 'totales': '1509 millones'}}\n"
          ]
        }
      ]
    }
  ]
}