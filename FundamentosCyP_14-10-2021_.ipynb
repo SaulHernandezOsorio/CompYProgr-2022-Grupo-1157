{
  "nbformat": 4,
  "nbformat_minor": 0,
  "metadata": {
    "colab": {
      "name": "FundamentosCyP 22-10-2021 .ipynb",
      "provenance": [],
      "authorship_tag": "ABX9TyNWhymVQWXpKtYOoobHpYgy",
      "include_colab_link": true
    },
    "kernelspec": {
      "name": "python3",
      "display_name": "Python 3"
    },
    "language_info": {
      "name": "python"
    }
  },
  "cells": [
    {
      "cell_type": "markdown",
      "metadata": {
        "id": "view-in-github",
        "colab_type": "text"
      },
      "source": [
        "<a href=\"https://colab.research.google.com/github/SaulHernandezOsorio/CompYProgr-2022-Grupo-1157/blob/main/FundamentosCyP_14-10-2021_.ipynb\" target=\"_parent\"><img src=\"https://colab.research.google.com/assets/colab-badge.svg\" alt=\"Open In Colab\"/></a>"
      ]
    },
    {
      "cell_type": "markdown",
      "metadata": {
        "id": "2hhAlHpazuN3"
      },
      "source": [
        "Fecha: 12 de Octubre de 2021"
      ]
    },
    {
      "cell_type": "code",
      "metadata": {
        "colab": {
          "base_uri": "https://localhost:8080/"
        },
        "id": "cnYJdNT4VVkl",
        "outputId": "8da01399-ebd1-4379-8b6e-3304ed746a43"
      },
      "source": [
        "nombre = \"Saúl\" # Tipo de dato String (cadena de caracteres)\n",
        "\n",
        "print( nombre )\n",
        "\n"
      ],
      "execution_count": null,
      "outputs": [
        {
          "output_type": "stream",
          "name": "stdout",
          "text": [
            "Saúl\n"
          ]
        }
      ]
    },
    {
      "cell_type": "markdown",
      "metadata": {
        "id": "rZxH-i9GXVOT"
      },
      "source": [
        "# Tipos de dato en Python\n",
        "\n",
        "### Tipos Simples\n",
        "- str --- String cadena de caractéres\n",
        "- int --- Numeros enteros\n",
        "- float --- Numeros con notación de punto flotante o decimal\n",
        "- complex --- Numeros complejos\n",
        "- bool --- Boleano (True o Fals)\n",
        "- byte --- 8 bits\n",
        "\n",
        "### Tipos de datos estructurados (compuestos)\n",
        "\n",
        "- list --- Listas (Arreglos en otros lenguajes)\n",
        "- dict --- diccionarios\n",
        "- set y frozenset --- Conjuntos\n",
        "- tuple --- Listas no mutables\n"
      ]
    },
    {
      "cell_type": "code",
      "metadata": {
        "colab": {
          "base_uri": "https://localhost:8080/"
        },
        "id": "7r0SUTo4aYNp",
        "outputId": "63611296-87d5-4c82-8d5c-85046edb7f9f"
      },
      "source": [
        "import sys\n",
        "\n",
        "edad = 19\n",
        "print( \"Tu edad es: \" , edad ) # al final de una linea de código\n",
        "# Este es un comentario de linea simple\n",
        "\n",
        "\"\"\"\n",
        "Comentario de multiple línea\n",
        "En lenguaje C, C++ y Java el comentario de multiple línea es con \n",
        "/* ...... */\n",
        "\n",
        "En lenguaje C, C++ y Java el comentario de una sola linea es con :\n",
        "\n",
        "//\n",
        "\n",
        "Aqui puedes explicar en prosa el segmento de un codigo para futuras revisiones\n",
        "\n",
        "\"\"\"\n",
        "# Tipos de dato Numerico int y float\n",
        "\n",
        "print( sys.getsizeof(edad) )\n",
        "# el tipo de dato INT utiliza diferente cantidad de bits segun el \n",
        "# leg de prog. por ejemplo en C utiliza 16 bits\n",
        "edad = edad + 1\n",
        "\n",
        "print( edad )\n",
        "\n",
        "estatura  = 1.56\n",
        "print( estatura )\n",
        "print( sys.getsizeof(estatura) )\n",
        "estatura  = estatura + 0.1\n",
        "print( estatura )\n",
        "\n",
        "print( round(estatura,2) )\n",
        "\n",
        "edad += 1  # edad = edad + 1\n",
        "print(\"Tu edad es:\", edad )\n",
        "\n",
        "edad -= 1  # edad = edad - 1\n",
        "print(\"Tu edad es:\", edad )\n",
        "\n",
        "edad+= 1 #Vuelve a 21\n",
        "edad /= 2  # edad = edad / 2\n",
        "print(\"La mitad de tu edad es:\", edad )\n",
        "\n",
        "\n",
        "edad=21\n",
        "# volver a caluclar la mitad de la edad pero solo dejar \n",
        "# parte entera\n",
        "edad = edad // 2\n",
        "print(\"La mitad de tu edad es:\", edad )\n",
        "\n",
        "# En la mayoria de los leng no permite operaciones entre\n",
        "# diferentes tipos de datos, en Python no es el caso\n",
        "\n",
        "numero = edad / 2.0 # División, se simplifica /=\n",
        "print( numero )\n",
        "\n",
        "numero *=  3 # Multiplicación , se simplifica *=\n",
        "print( numero )\n",
        "\n",
        "numero = 5.0\n",
        "numero = numero ** 3 # Potencia , se simplifica poniendo **=\n",
        "print( numero ) \n",
        "\n"
      ],
      "execution_count": null,
      "outputs": [
        {
          "output_type": "stream",
          "name": "stdout",
          "text": [
            "Tu edad es:  19\n",
            "28\n",
            "20\n",
            "1.56\n",
            "24\n",
            "1.6600000000000001\n",
            "1.66\n",
            "Tu edad es: 21\n",
            "Tu edad es: 20\n",
            "La mitad de tu edad es: 10.5\n",
            "La mitad de tu edad es: 10\n",
            "5.0\n",
            "15.0\n",
            "125.0\n",
            "10.5\n"
          ]
        }
      ]
    },
    {
      "cell_type": "code",
      "metadata": {
        "colab": {
          "base_uri": "https://localhost:8080/"
        },
        "id": "vEJlESaXlt1X",
        "outputId": "5e931d7d-cfe9-49b9-d288-69948a2cc6ab"
      },
      "source": [
        "# Operador Modulo\n",
        "numero = 21\n",
        "print( numero / 2)\n",
        "print( numero // 2)\n",
        "\n",
        "# El operador módulo da como resultado el residuo de una división entera\n",
        "print( numero % 2 )\n",
        "\n",
        "numero = 24 \n",
        "print(\"Residuo de 24 / 5:\" , numero % 5 )\n",
        "\n",
        "#Operadores Relacionales (lógicos)\n",
        "print( numero % 2 == 0)\n",
        "\n",
        "# Diferenciales\n",
        "print( \"24 es diferente de 23\", numero!= 23) # Diferente que\n",
        "\n",
        "print(\"24 es mayor que 23\", numero > 23) # Mayor qué\n",
        "\n",
        "print(\"24 es menor que 23\", numero < 23) # Menor Qué\n",
        "\n",
        "print(\"24 es mayor o igual  que 24\", numero >= 23) # Mayor o Igual\n",
        "print(\"24 es menor o igual que 23\", numero <= 23) # Mayor o Igual\n",
        "\n",
        "\n",
        "print(\"El tipo de dato de la var numero es:\", type(numero) )\n",
        "print(\"El tipo de dato de la var numero  / 2.0 es:\", type(numero/2.0) )\n"
      ],
      "execution_count": null,
      "outputs": [
        {
          "output_type": "stream",
          "name": "stdout",
          "text": [
            "10.5\n",
            "10\n",
            "1\n",
            "Residuo de 24 / 5: 4\n",
            "True\n",
            "24 es diferente de 23 True\n",
            "24 es mayor que 23 True\n",
            "24 es menor que 23 False\n",
            "24 es mayor o igual  que 24 True\n",
            "24 es menor o igual que 23 False\n",
            "El tipo de dato de la var numero es: <class 'int'>\n",
            "El tipo de dato de la var numero  / 2.0 es: <class 'float'>\n"
          ]
        }
      ]
    },
    {
      "cell_type": "markdown",
      "metadata": {
        "id": "V9PRW2mPpix9"
      },
      "source": [
        "# Tipo de dato String (str) en Python\n",
        "\n",
        "- Se maneja como un arreglo ( tipo de dato compuesto )\n",
        "- Se peude acceder a los elementos de el string por medio del indice del caracter.\n",
        "- Mutable\n",
        "- Tiene métodos útiles (potentes)\n",
        "- slicing"
      ]
    },
    {
      "cell_type": "code",
      "metadata": {
        "colab": {
          "base_uri": "https://localhost:8080/"
        },
        "id": "TsSH_PUeqL43",
        "outputId": "3442bb10-c13b-4790-e4e8-7ab298a10025"
      },
      "source": [
        "nombre = \"Jose\" # Palabras simples , comillas simples \n",
        "carrera = \"Ingenieria en computación\" # Palabras complejas  , comillas enteras\n",
        "frase = \"\"\"  El conocimiento \n",
        "me persigue,....\n",
        "pero\n",
        "yo soy más rápido\n",
        "\"\"\"\n",
        "print( nombre )\n",
        "print( carrera )\n",
        "print( frase )\n",
        "\n",
        "# La función type de Python te devuelve el tipo de dato de una variable( o esl )\n",
        "print( type(nombre) )\n",
        "\n",
        "paterno = str( \"Perez\" )\n",
        "print( paterno )\n"
      ],
      "execution_count": null,
      "outputs": [
        {
          "output_type": "stream",
          "name": "stdout",
          "text": [
            "Jose\n",
            "Ingenieria en computación\n",
            "  El conocimiento \n",
            "me persigue,....\n",
            "pero\n",
            "yo soy más rápido\n",
            "\n",
            "<class 'str'>\n",
            "Perez\n"
          ]
        }
      ]
    },
    {
      "cell_type": "markdown",
      "metadata": {
        "id": "NNtgUbhj_q_2"
      },
      "source": [
        "# CLASE FECHA 14/Oct/2021"
      ]
    },
    {
      "cell_type": "markdown",
      "metadata": {
        "id": "QePGQErkpXLQ"
      },
      "source": [
        "# Una clase (class) es un tipo de dato compuesto"
      ]
    },
    {
      "cell_type": "code",
      "metadata": {
        "colab": {
          "base_uri": "https://localhost:8080/"
        },
        "id": "x2q6OWxOpgmf",
        "outputId": "2e4c5086-c6e0-4641-df43-88bd3a435a39"
      },
      "source": [
        "carrera = \"Ingenieria en computación\" # Palabras complejas  , comillas enteras\n",
        "print( carrera )\n",
        "print( carrera[2] )"
      ],
      "execution_count": 6,
      "outputs": [
        {
          "output_type": "stream",
          "name": "stdout",
          "text": [
            "Ingenieria en computación\n",
            "g\n"
          ]
        }
      ]
    },
    {
      "cell_type": "markdown",
      "metadata": {
        "id": "R7fDd4Ua7QH3"
      },
      "source": [
        "# A la sintaxis escrita para elegir un elemento de un grupo de datos se le llama selector\n",
        "\n",
        "En el caso de Strings y listas (lst) se usan los caracteres \"[ y ]\"\n",
        "\n",
        "1. En todos los lenguajes los arreglos inician en 0.\n",
        "2. En Python noe xiste  el tipo de dato arreglo, el concepto es sustituido por las listas.\n",
        "3. Los Strings se comportan como un arreglo en la mayoria de los lenguajes.\n",
        "4. En Python se aceptan el indexado negativo, en otros lenguajes no."
      ]
    },
    {
      "cell_type": "code",
      "metadata": {
        "id": "6yxRNgVt7XRn",
        "outputId": "6790d430-07a7-4954-cc9e-c5bad6fd8fe1",
        "colab": {
          "base_uri": "https://localhost:8080/"
        }
      },
      "source": [
        "carrera = \"Ingeniería en computación\" \n",
        "print( carrera[8] )\n",
        "print( carrera[24] )\n",
        "print( carrera[-1] )\n",
        "print( carrera[-25] )\n",
        "\n",
        "\n",
        "# Ciclo FOR (TEMA ADELANTADO)\n",
        "\n",
        "for letra in  carrera:\n",
        "  print(\"---\" ,letra , \"---\")\n",
        "\n"
      ],
      "execution_count": 5,
      "outputs": [
        {
          "output_type": "stream",
          "name": "stdout",
          "text": [
            "í\n",
            "n\n",
            "n\n",
            "I\n",
            "--- I ---\n",
            "--- n ---\n",
            "--- g ---\n",
            "--- e ---\n",
            "--- n ---\n",
            "--- i ---\n",
            "--- e ---\n",
            "--- r ---\n",
            "--- í ---\n",
            "--- a ---\n",
            "---   ---\n",
            "--- e ---\n",
            "--- n ---\n",
            "---   ---\n",
            "--- c ---\n",
            "--- o ---\n",
            "--- m ---\n",
            "--- p ---\n",
            "--- u ---\n",
            "--- t ---\n",
            "--- a ---\n",
            "--- c ---\n",
            "--- i ---\n",
            "--- ó ---\n",
            "--- n ---\n"
          ]
        }
      ]
    },
    {
      "cell_type": "markdown",
      "metadata": {
        "id": "zySif8jO7eWS"
      },
      "source": [
        "# Slicing (rebanado) de cadenas\n",
        "\n",
        "Permite seleccioanr subcadenas con el operador [ Inicio: Stops : incrementos ]\n",
        "\n",
        "El stop no se incluye , es por eso que debemos agregar una posición extra\n",
        "\n",
        "### Slicing y valores por defecto\n",
        "Inicio por defecto siempre sera 0 \n",
        "stop: tamaño del arreglo(indexado positivo)\n",
        "          0 en un indexado negativo\n",
        "Incremento: es 1 (indexado positivo)        "
      ]
    },
    {
      "cell_type": "code",
      "metadata": {
        "id": "lmrZdzQN7igN",
        "outputId": "39c039dc-e4be-4dcf-9e8b-587a35ef795e",
        "colab": {
          "base_uri": "https://localhost:8080/"
        }
      },
      "source": [
        "carrera = \"Ingeniería en computación\" \n",
        "print( carrera [0:10:1] )\n",
        "print( carrera [14:25:1] )\n",
        "# Indexado Negativo\n",
        "print(carrera [-11:-1:1])\n",
        "\n",
        "# Diferente Manera de Escribirlo\n",
        "print( carrera [:10:] )\n",
        "\n",
        "print( carrera [14:25:] )\n",
        "\n",
        "print(\"-------------\")\n",
        " # Solución indexado Negativo\n",
        "print(\"Aqui hace falta que aparezca la n:\" ,carrera [-11:-1:1])\n",
        "\n",
        "print(\"Al momento de omitir -1, aparece la palabra correcta: \" ,carrera [ -11 : : 1 ] )\n",
        "\n",
        "# Ejercicio de Incremento\n",
        "print( carrera [0:10:2])\n",
        "\n",
        "# Como escribirlo en indexado positivo\n",
        "print( carrera [25:14:-1] )\n",
        "\n"
      ],
      "execution_count": 3,
      "outputs": [
        {
          "output_type": "stream",
          "name": "stdout",
          "text": [
            "Ingeniería\n",
            "computación\n",
            "computació\n",
            "Ingeniería\n",
            "computación\n",
            "-------------\n",
            "Aqui hace falta que aparezca la n: computació\n",
            "Al momento de omitir -1, aparece la palabra correcta:  computación\n",
            "Igneí\n",
            "nóicatupmo\n"
          ]
        }
      ]
    },
    {
      "cell_type": "markdown",
      "metadata": {
        "id": "d7swZCRJ7qHb"
      },
      "source": [
        "# String y sus métodos\n",
        "# Todos los tipos de datos en Python son objetos (CLASES de la POO)\n",
        "### Lo cual significa que tiene atributos y métodos.\n",
        "## dir() y help() funciones para obtener ayuda del lenguaje Python.\n",
        "\n",
        "### dir muestra las funciones de un tipo de dato como resumen.\n",
        "\n",
        "##  help muestra la misma ayuda pero a detalle.\n",
        "\n",
        "Metodo que inician con doble guión bajo son privados de uso interno de la clase , y no deberiamos usarlos.\n",
        "\n",
        "Fuera de esos , todos los demas son de uso exterior(usuario)"
      ]
    },
    {
      "cell_type": "code",
      "metadata": {
        "id": "7sVgtWug7rfD",
        "outputId": "2dfca58b-23e1-4ac5-e693-f349a95e3257",
        "colab": {
          "base_uri": "https://localhost:8080/"
        }
      },
      "source": [
        "frutas = \"  limon , fresa,  manzana  , aguacate  \"\n",
        "nombre = \"saul\"\n",
        "print( frutas )\n",
        "\n",
        "\n",
        "print( nombre.capitalize() )\n",
        "print( nombre.upper() )\n",
        "print( frutas.replace( \"a\" , \"4\" ).replace(\"e\",\"3\").upper() )\n",
        "frutas = frutas.replace( \"a\" , \"4\" ).replace(\"e\",\"3\").upper()\n",
        "print( frutas )\n",
        "print(\"----------------------\")\n",
        "\n",
        "frutas = \"  limon , fresa,  manzana  , aguacate  \"\n",
        "print( frutas.strip() )\n",
        "\n",
        "print( frutas.split(\",\") )\n",
        "\n",
        "print(  frutas.index(\"n\"))"
      ],
      "execution_count": 2,
      "outputs": [
        {
          "output_type": "stream",
          "name": "stdout",
          "text": [
            "  limon , fresa,  manzana  , aguacate  \n",
            "Saul\n",
            "SAUL\n",
            "  LIMON , FR3S4,  M4NZ4N4  , 4GU4C4T3  \n",
            "  LIMON , FR3S4,  M4NZ4N4  , 4GU4C4T3  \n",
            "----------------------\n",
            "limon , fresa,  manzana  , aguacate\n",
            "['  limon ', ' fresa', '  manzana  ', ' aguacate  ']\n",
            "6\n"
          ]
        }
      ]
    },
    {
      "cell_type": "markdown",
      "metadata": {
        "id": "tkUKHMk48aEt"
      },
      "source": [
        "# String y caracteres de escape\n",
        "\n",
        "- \\\"  -----  \"\n",
        "- \\¨  ----- ¨\n",
        "- \\n  ----- Salto de linea(tecla enter)\n",
        "- \\t  ----- Tabulador spacios a la izq\n",
        "- \\uxxxx -- Caracteres unicode\n",
        "- \\Uxxxxxxxx -- unicode extendido"
      ]
    },
    {
      "cell_type": "code",
      "metadata": {
        "id": "v9vNdnYz81vm",
        "outputId": "d3506933-5a59-41ba-a9d9-9c21b2bef3fb",
        "colab": {
          "base_uri": "https://localhost:8080/"
        }
      },
      "source": [
        "print(\" \\\"saul\\\" \")\n",
        "nombre = \" \\\"saul\\\" \"\n",
        "print( nombre )\n",
        "carrera = \"Ingenieria \\nen \\nComputación\"\n",
        "print( carrera )"
      ],
      "execution_count": 8,
      "outputs": [
        {
          "output_type": "stream",
          "name": "stdout",
          "text": [
            " \"saul\" \n",
            " \"saul\" \n",
            "Ingenieria \n",
            "en \n",
            "Computación\n"
          ]
        }
      ]
    },
    {
      "cell_type": "markdown",
      "metadata": {
        "id": "5dym_zoUjWIH"
      },
      "source": [
        ""
      ]
    }
  ]
}