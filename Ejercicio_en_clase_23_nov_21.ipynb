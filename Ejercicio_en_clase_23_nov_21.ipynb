{
  "nbformat": 4,
  "nbformat_minor": 0,
  "metadata": {
    "colab": {
      "name": "Ejercicio en clase 23-nov-21.ipynb",
      "provenance": [],
      "authorship_tag": "ABX9TyPuAUp1pin2A+ZzoX7h6qvw",
      "include_colab_link": true
    },
    "kernelspec": {
      "name": "python3",
      "display_name": "Python 3"
    },
    "language_info": {
      "name": "python"
    }
  },
  "cells": [
    {
      "cell_type": "markdown",
      "metadata": {
        "id": "view-in-github",
        "colab_type": "text"
      },
      "source": [
        "<a href=\"https://colab.research.google.com/github/SaulHernandezOsorio/CompYProgr-2022-Grupo-1157/blob/main/Ejercicio_en_clase_23_nov_21.ipynb\" target=\"_parent\"><img src=\"https://colab.research.google.com/assets/colab-badge.svg\" alt=\"Open In Colab\"/></a>"
      ]
    },
    {
      "cell_type": "markdown",
      "metadata": {
        "id": "Blv0aLTuNt9Y"
      },
      "source": [
        "# EJERCICIO EN CLASE 23 DE NOVIEMBRE DEL 2021\n",
        "\n"
      ]
    },
    {
      "cell_type": "code",
      "metadata": {
        "colab": {
          "base_uri": "https://localhost:8080/"
        },
        "id": "Z1nF-O1bNs68",
        "outputId": "aeeee577-a8cc-4ba1-cc40-05bcd34544b1"
      },
      "source": [
        "A = int(input(\"Dame un numero entero A: \"))\n",
        "B = int(input(\"Dame un numero entero diferente B: \"))\n",
        "C = int(input(\"Dame un numero entero diferente C: \"))\n",
        "\n",
        "if A > B:\n",
        "    if A > C:\n",
        "        if B > C:\n",
        "            print(\"Los Numeros son en orden decreciente : \",A, B, C)\n",
        "        else:\n",
        "            print(f\"Los Numeros son en orden decreciente:\",A, C, B)\n",
        "    else:\n",
        "        print(f\"Los Numeros son en orden decreciente:\" ,C, A, B)\n",
        "else:\n",
        "    if B>C: \n",
        "    \n",
        "        if A>C:\n",
        "            print(\"Los Numeros son en orden decreciente : \",B, A, C)\n",
        "        else:\n",
        "            print(\"Los Numeros son en orden decreciente: \",B, C, A)\n",
        "    else: print(\"Los Numeros son en orden decreciente: \",C, B, A)\n",
        "\n",
        "print(\"FIN DEL PROGRAMA :3 \")\n",
        "      "
      ],
      "execution_count": 1,
      "outputs": [
        {
          "output_type": "stream",
          "name": "stdout",
          "text": [
            "Dame un numero entero A: 12\n",
            "Dame un numero entero diferente B: 14\n",
            "Dame un numero entero diferente C: 15\n",
            "Los Numeros son en orden decreciente:  15 14 12\n",
            "FIN DEL PROGRAMA :3 \n"
          ]
        }
      ]
    }
  ]
}